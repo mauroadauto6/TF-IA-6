{
  "cells": [
    {
      "cell_type": "code",
      "execution_count": 5,
      "metadata": {
        "id": "B0r0HYmqIcNk"
      },
      "outputs": [],
      "source": [
        "\n",
        "import numpy as np\n",
        "import pandas as pd\n",
        "import tensorflow as tf\n",
        "import matplotlib.pyplot as plt\n",
        "from sklearn.preprocessing import StandardScaler"
      ]
    },
    {
      "cell_type": "markdown",
      "metadata": {
        "id": "tune4_h3IcNm"
      },
      "source": [
        "# Creating and training model"
      ]
    },
    {
      "cell_type": "markdown",
      "metadata": {
        "id": "W9E8lHINIcNn"
      },
      "source": [
        "## Train and Test data"
      ]
    },
    {
      "cell_type": "code",
      "execution_count": 6,
      "metadata": {
        "id": "Tsa3d1p8IcNp"
      },
      "outputs": [],
      "source": [
        "# test\n",
        "testDataRaw = pd.read_csv('../../../datasets/fraudTest.csv')\n",
        "#print(testDataRaw.shape)\n",
        "#print(testDataRaw.head())"
      ]
    },
    {
      "cell_type": "markdown",
      "metadata": {
        "id": "Xwcg_e2-IcNp"
      },
      "source": [
        "## Visualizing Data"
      ]
    },
    {
      "cell_type": "code",
      "execution_count": 7,
      "metadata": {
        "colab": {
          "base_uri": "https://localhost:8080/"
        },
        "id": "g6Az72HRIcNp",
        "outputId": "1d1105dd-b222-43b5-932a-f3384a7d1acd"
      },
      "outputs": [
        {
          "name": "stdout",
          "output_type": "stream",
          "text": [
            "is_fraud\n",
            "0    553574\n",
            "1      2145\n",
            "Name: count, dtype: int64\n"
          ]
        }
      ],
      "source": [
        "print(testDataRaw['is_fraud'].value_counts())"
      ]
    },
    {
      "cell_type": "code",
      "execution_count": 8,
      "metadata": {
        "colab": {
          "base_uri": "https://localhost:8080/",
          "height": 521
        },
        "id": "I3eH_3ipIcNp",
        "outputId": "0293168d-eb6b-41a8-df0c-b7483c8bbe5b"
      },
      "outputs": [
        {
          "data": {
            "image/png": "[encoded data removed]",
            "text/plain": [
              "<Figure size 600x600 with 1 Axes>"
            ]
          },
          "metadata": {},
          "output_type": "display_data"
        }
      ],
      "source": [
        "piecito = testDataRaw['is_fraud'].value_counts()\n",
        "\n",
        "plt.figure(figsize=(6, 6))\n",
        "plt.pie(piecito, labels=piecito, autopct='%1.1f%%', pctdistance=0.8 , startangle=140)\n",
        "\n",
        "cir = plt.Circle((0.0, 0.0), 0.5, fc='white')\n",
        "fig = plt.gcf()\n",
        "fig.gca().add_artist(cir)\n",
        "\n",
        "plt.title('Distribución de Fraude (is_fraud)')\n",
        "plt.axis('equal')\n",
        "\n",
        "plt.show()\n"
      ]
    },
    {
      "cell_type": "markdown",
      "metadata": {
        "id": "JTWwZ_SmIcNq"
      },
      "source": [
        "## Data cleaning (trainData)"
      ]
    },
    {
      "cell_type": "code",
      "execution_count": 40,
      "metadata": {
        "id": "c_YSDZ8xIcNr"
      },
      "outputs": [],
      "source": [
        "columns_out = ['Unnamed: 0', 'cc_num', 'merchant', 'state', 'first', 'last', 'gender', 'street', 'city', 'zip', 'city', 'job', 'dob', 'trans_num', 'unix_time']"
      ]
    },
    {
      "cell_type": "code",
      "execution_count": 41,
      "metadata": {
        "id": "Vv5Sad-lIcNr"
      },
      "outputs": [],
      "source": [
        "testData = testDataRaw.drop(columns=columns_out)"
      ]
    },
    {
      "cell_type": "markdown",
      "metadata": {
        "id": "19i7II66IcNz"
      },
      "source": [
        "# Model Checking"
      ]
    },
    {
      "cell_type": "code",
      "execution_count": 42,
      "metadata": {
        "colab": {
          "base_uri": "https://localhost:8080/"
        },
        "id": "BvxSiG2SIcNz",
        "outputId": "fe4bc1d9-9aef-4cc9-e8d6-b2df11703c97"
      },
      "outputs": [
        {
          "name": "stdout",
          "output_type": "stream",
          "text": [
            "(555719, 23)\n",
            "(555719, 9)\n"
          ]
        }
      ],
      "source": [
        "print(testDataRaw.shape)\n",
        "print(testData.shape)"
      ]
    },
    {
      "cell_type": "code",
      "execution_count": 43,
      "metadata": {},
      "outputs": [
        {
          "name": "stdout",
          "output_type": "stream",
          "text": [
            "['trans_date_trans_time', 'category', 'amt', 'lat', 'long', 'city_pop', 'merch_lat', 'merch_long', 'is_fraud']\n"
          ]
        }
      ],
      "source": [
        "headers = testData.columns.tolist()\n",
        "print(headers)"
      ]
    },
    {
      "cell_type": "code",
      "execution_count": 44,
      "metadata": {},
      "outputs": [
        {
          "name": "stdout",
          "output_type": "stream",
          "text": [
            "['2020-06-21 15:08:30', 'misc_net', 4.54, 40.4679, -77.8967, 1334, 39.800444, -77.485215, 0]\n"
          ]
        }
      ],
      "source": [
        "row_data = testData.iloc[515].tolist()\n",
        "print(row_data)"
      ]
    },
    {
      "cell_type": "code",
      "execution_count": 70,
      "metadata": {},
      "outputs": [
        {
          "data": {
            "text/html": [
              "<div>\n",
              "<style scoped>\n",
              "    .dataframe tbody tr th:only-of-type {\n",
              "        vertical-align: middle;\n",
              "    }\n",
              "\n",
              "    .dataframe tbody tr th {\n",
              "        vertical-align: top;\n",
              "    }\n",
              "\n",
              "    .dataframe thead th {\n",
              "        text-align: right;\n",
              "    }\n",
              "</style>\n",
              "<table border=\"1\" class=\"dataframe\">\n",
              "  <thead>\n",
              "    <tr style=\"text-align: right;\">\n",
              "      <th></th>\n",
              "      <th>trans_date_trans_time</th>\n",
              "      <th>category</th>\n",
              "      <th>amt</th>\n",
              "      <th>lat</th>\n",
              "      <th>long</th>\n",
              "      <th>city_pop</th>\n",
              "      <th>merch_lat</th>\n",
              "      <th>merch_long</th>\n",
              "      <th>is_fraud</th>\n",
              "    </tr>\n",
              "  </thead>\n",
              "  <tbody>\n",
              "    <tr>\n",
              "      <th>0</th>\n",
              "      <td>NaN</td>\n",
              "      <td>NaN</td>\n",
              "      <td>NaN</td>\n",
              "      <td>NaN</td>\n",
              "      <td>NaN</td>\n",
              "      <td>NaN</td>\n",
              "      <td>NaN</td>\n",
              "      <td>NaN</td>\n",
              "      <td>NaN</td>\n",
              "    </tr>\n",
              "  </tbody>\n",
              "</table>\n",
              "</div>"
            ],
            "text/plain": [
              "  trans_date_trans_time category  amt  lat long city_pop merch_lat merch_long  \\\n",
              "0                   NaN      NaN  NaN  NaN  NaN      NaN       NaN        NaN   \n",
              "\n",
              "  is_fraud  \n",
              "0      NaN  "
            ]
          },
          "execution_count": 70,
          "metadata": {},
          "output_type": "execute_result"
        }
      ],
      "source": [
        "purchaseData = pd.DataFrame(index=[0], columns=headers)\n",
        "#print(purchaseData)\n",
        "purchaseData.head()"
      ]
    },
    {
      "cell_type": "code",
      "execution_count": 71,
      "metadata": {},
      "outputs": [
        {
          "data": {
            "text/html": [
              "<div>\n",
              "<style scoped>\n",
              "    .dataframe tbody tr th:only-of-type {\n",
              "        vertical-align: middle;\n",
              "    }\n",
              "\n",
              "    .dataframe tbody tr th {\n",
              "        vertical-align: top;\n",
              "    }\n",
              "\n",
              "    .dataframe thead th {\n",
              "        text-align: right;\n",
              "    }\n",
              "</style>\n",
              "<table border=\"1\" class=\"dataframe\">\n",
              "  <thead>\n",
              "    <tr style=\"text-align: right;\">\n",
              "      <th></th>\n",
              "      <th>trans_date_trans_time</th>\n",
              "      <th>category</th>\n",
              "      <th>amt</th>\n",
              "      <th>lat</th>\n",
              "      <th>long</th>\n",
              "      <th>city_pop</th>\n",
              "      <th>merch_lat</th>\n",
              "      <th>merch_long</th>\n",
              "      <th>is_fraud</th>\n",
              "    </tr>\n",
              "  </thead>\n",
              "  <tbody>\n",
              "    <tr>\n",
              "      <th>0</th>\n",
              "      <td>2020-06-21 15:08:30</td>\n",
              "      <td>misc_net</td>\n",
              "      <td>4.54</td>\n",
              "      <td>40.4679</td>\n",
              "      <td>-77.8967</td>\n",
              "      <td>1334</td>\n",
              "      <td>39.800444</td>\n",
              "      <td>-77.485215</td>\n",
              "      <td>0</td>\n",
              "    </tr>\n",
              "  </tbody>\n",
              "</table>\n",
              "</div>"
            ],
            "text/plain": [
              "  trans_date_trans_time  category   amt      lat     long city_pop  merch_lat  \\\n",
              "0   2020-06-21 15:08:30  misc_net  4.54  40.4679 -77.8967     1334  39.800444   \n",
              "\n",
              "  merch_long is_fraud  \n",
              "0 -77.485215        0  "
            ]
          },
          "execution_count": 71,
          "metadata": {},
          "output_type": "execute_result"
        }
      ],
      "source": [
        "purchaseData.loc[0] = row_data\n",
        "purchaseData.head()"
      ]
    },
    {
      "cell_type": "code",
      "execution_count": 72,
      "metadata": {},
      "outputs": [],
      "source": [
        "# Guardar solo categorias en otra variable\n",
        "categories = testData['category'].unique()\n",
        "OH_categories = pd.DataFrame(False, index=[0], columns=[f'cat_{category}' for category in categories])"
      ]
    },
    {
      "cell_type": "code",
      "execution_count": 73,
      "metadata": {},
      "outputs": [
        {
          "data": {
            "text/html": [
              "<div>\n",
              "<style scoped>\n",
              "    .dataframe tbody tr th:only-of-type {\n",
              "        vertical-align: middle;\n",
              "    }\n",
              "\n",
              "    .dataframe tbody tr th {\n",
              "        vertical-align: top;\n",
              "    }\n",
              "\n",
              "    .dataframe thead th {\n",
              "        text-align: right;\n",
              "    }\n",
              "</style>\n",
              "<table border=\"1\" class=\"dataframe\">\n",
              "  <thead>\n",
              "    <tr style=\"text-align: right;\">\n",
              "      <th></th>\n",
              "      <th>cat_personal_care</th>\n",
              "      <th>cat_health_fitness</th>\n",
              "      <th>cat_misc_pos</th>\n",
              "      <th>cat_travel</th>\n",
              "      <th>cat_kids_pets</th>\n",
              "      <th>cat_shopping_pos</th>\n",
              "      <th>cat_food_dining</th>\n",
              "      <th>cat_home</th>\n",
              "      <th>cat_entertainment</th>\n",
              "      <th>cat_shopping_net</th>\n",
              "      <th>cat_misc_net</th>\n",
              "      <th>cat_grocery_pos</th>\n",
              "      <th>cat_gas_transport</th>\n",
              "      <th>cat_grocery_net</th>\n",
              "    </tr>\n",
              "  </thead>\n",
              "  <tbody>\n",
              "    <tr>\n",
              "      <th>0</th>\n",
              "      <td>False</td>\n",
              "      <td>False</td>\n",
              "      <td>False</td>\n",
              "      <td>False</td>\n",
              "      <td>False</td>\n",
              "      <td>False</td>\n",
              "      <td>False</td>\n",
              "      <td>False</td>\n",
              "      <td>False</td>\n",
              "      <td>False</td>\n",
              "      <td>False</td>\n",
              "      <td>False</td>\n",
              "      <td>False</td>\n",
              "      <td>False</td>\n",
              "    </tr>\n",
              "  </tbody>\n",
              "</table>\n",
              "</div>"
            ],
            "text/plain": [
              "   cat_personal_care  cat_health_fitness  cat_misc_pos  cat_travel  \\\n",
              "0              False               False         False       False   \n",
              "\n",
              "   cat_kids_pets  cat_shopping_pos  cat_food_dining  cat_home  \\\n",
              "0          False             False            False     False   \n",
              "\n",
              "   cat_entertainment  cat_shopping_net  cat_misc_net  cat_grocery_pos  \\\n",
              "0              False             False         False            False   \n",
              "\n",
              "   cat_gas_transport  cat_grocery_net  \n",
              "0              False            False  "
            ]
          },
          "execution_count": 73,
          "metadata": {},
          "output_type": "execute_result"
        }
      ],
      "source": [
        "OH_categories.head()"
      ]
    },
    {
      "cell_type": "code",
      "execution_count": 74,
      "metadata": {},
      "outputs": [],
      "source": [
        "X = pd.get_dummies(purchaseData, columns=['category'], prefix=['cat'])\n",
        "X = X.drop(columns=['is_fraud'])"
      ]
    },
    {
      "cell_type": "code",
      "execution_count": 75,
      "metadata": {},
      "outputs": [
        {
          "data": {
            "text/html": [
              "<div>\n",
              "<style scoped>\n",
              "    .dataframe tbody tr th:only-of-type {\n",
              "        vertical-align: middle;\n",
              "    }\n",
              "\n",
              "    .dataframe tbody tr th {\n",
              "        vertical-align: top;\n",
              "    }\n",
              "\n",
              "    .dataframe thead th {\n",
              "        text-align: right;\n",
              "    }\n",
              "</style>\n",
              "<table border=\"1\" class=\"dataframe\">\n",
              "  <thead>\n",
              "    <tr style=\"text-align: right;\">\n",
              "      <th></th>\n",
              "      <th>trans_date_trans_time</th>\n",
              "      <th>amt</th>\n",
              "      <th>lat</th>\n",
              "      <th>long</th>\n",
              "      <th>city_pop</th>\n",
              "      <th>merch_lat</th>\n",
              "      <th>merch_long</th>\n",
              "      <th>cat_misc_net</th>\n",
              "    </tr>\n",
              "  </thead>\n",
              "  <tbody>\n",
              "    <tr>\n",
              "      <th>0</th>\n",
              "      <td>2020-06-21 15:08:30</td>\n",
              "      <td>4.54</td>\n",
              "      <td>40.4679</td>\n",
              "      <td>-77.8967</td>\n",
              "      <td>1334</td>\n",
              "      <td>39.800444</td>\n",
              "      <td>-77.485215</td>\n",
              "      <td>True</td>\n",
              "    </tr>\n",
              "  </tbody>\n",
              "</table>\n",
              "</div>"
            ],
            "text/plain": [
              "  trans_date_trans_time   amt      lat     long city_pop  merch_lat  \\\n",
              "0   2020-06-21 15:08:30  4.54  40.4679 -77.8967     1334  39.800444   \n",
              "\n",
              "  merch_long  cat_misc_net  \n",
              "0 -77.485215          True  "
            ]
          },
          "execution_count": 75,
          "metadata": {},
          "output_type": "execute_result"
        }
      ],
      "source": [
        "X.head()"
      ]
    },
    {
      "cell_type": "code",
      "execution_count": 76,
      "metadata": {},
      "outputs": [
        {
          "data": {
            "text/html": [
              "<div>\n",
              "<style scoped>\n",
              "    .dataframe tbody tr th:only-of-type {\n",
              "        vertical-align: middle;\n",
              "    }\n",
              "\n",
              "    .dataframe tbody tr th {\n",
              "        vertical-align: top;\n",
              "    }\n",
              "\n",
              "    .dataframe thead th {\n",
              "        text-align: right;\n",
              "    }\n",
              "</style>\n",
              "<table border=\"1\" class=\"dataframe\">\n",
              "  <thead>\n",
              "    <tr style=\"text-align: right;\">\n",
              "      <th></th>\n",
              "      <th>cat_personal_care</th>\n",
              "      <th>cat_health_fitness</th>\n",
              "      <th>cat_misc_pos</th>\n",
              "      <th>cat_travel</th>\n",
              "      <th>cat_kids_pets</th>\n",
              "      <th>cat_shopping_pos</th>\n",
              "      <th>cat_food_dining</th>\n",
              "      <th>cat_home</th>\n",
              "      <th>cat_entertainment</th>\n",
              "      <th>cat_shopping_net</th>\n",
              "      <th>cat_misc_net</th>\n",
              "      <th>cat_grocery_pos</th>\n",
              "      <th>cat_gas_transport</th>\n",
              "      <th>cat_grocery_net</th>\n",
              "    </tr>\n",
              "  </thead>\n",
              "  <tbody>\n",
              "    <tr>\n",
              "      <th>0</th>\n",
              "      <td>False</td>\n",
              "      <td>False</td>\n",
              "      <td>False</td>\n",
              "      <td>False</td>\n",
              "      <td>False</td>\n",
              "      <td>False</td>\n",
              "      <td>False</td>\n",
              "      <td>False</td>\n",
              "      <td>False</td>\n",
              "      <td>False</td>\n",
              "      <td>False</td>\n",
              "      <td>False</td>\n",
              "      <td>False</td>\n",
              "      <td>False</td>\n",
              "    </tr>\n",
              "  </tbody>\n",
              "</table>\n",
              "</div>"
            ],
            "text/plain": [
              "   cat_personal_care  cat_health_fitness  cat_misc_pos  cat_travel  \\\n",
              "0              False               False         False       False   \n",
              "\n",
              "   cat_kids_pets  cat_shopping_pos  cat_food_dining  cat_home  \\\n",
              "0          False             False            False     False   \n",
              "\n",
              "   cat_entertainment  cat_shopping_net  cat_misc_net  cat_grocery_pos  \\\n",
              "0              False             False         False            False   \n",
              "\n",
              "   cat_gas_transport  cat_grocery_net  \n",
              "0              False            False  "
            ]
          },
          "execution_count": 76,
          "metadata": {},
          "output_type": "execute_result"
        }
      ],
      "source": [
        "OH_categories.head()"
      ]
    },
    {
      "cell_type": "code",
      "execution_count": 77,
      "metadata": {},
      "outputs": [
        {
          "name": "stdout",
          "output_type": "stream",
          "text": [
            "['cat_misc_net']\n"
          ]
        }
      ],
      "source": [
        "columns_to_concat = X.columns.intersection(OH_categories.columns).tolist()\n",
        "print(columns_to_concat)"
      ]
    },
    {
      "cell_type": "code",
      "execution_count": 78,
      "metadata": {},
      "outputs": [],
      "source": [
        "aux_OH_categories = OH_categories\n",
        "aux_OH_categories[columns_to_concat] = X[columns_to_concat]"
      ]
    },
    {
      "cell_type": "code",
      "execution_count": 79,
      "metadata": {},
      "outputs": [
        {
          "data": {
            "text/html": [
              "<div>\n",
              "<style scoped>\n",
              "    .dataframe tbody tr th:only-of-type {\n",
              "        vertical-align: middle;\n",
              "    }\n",
              "\n",
              "    .dataframe tbody tr th {\n",
              "        vertical-align: top;\n",
              "    }\n",
              "\n",
              "    .dataframe thead th {\n",
              "        text-align: right;\n",
              "    }\n",
              "</style>\n",
              "<table border=\"1\" class=\"dataframe\">\n",
              "  <thead>\n",
              "    <tr style=\"text-align: right;\">\n",
              "      <th></th>\n",
              "      <th>cat_personal_care</th>\n",
              "      <th>cat_health_fitness</th>\n",
              "      <th>cat_misc_pos</th>\n",
              "      <th>cat_travel</th>\n",
              "      <th>cat_kids_pets</th>\n",
              "      <th>cat_shopping_pos</th>\n",
              "      <th>cat_food_dining</th>\n",
              "      <th>cat_home</th>\n",
              "      <th>cat_entertainment</th>\n",
              "      <th>cat_shopping_net</th>\n",
              "      <th>cat_misc_net</th>\n",
              "      <th>cat_grocery_pos</th>\n",
              "      <th>cat_gas_transport</th>\n",
              "      <th>cat_grocery_net</th>\n",
              "    </tr>\n",
              "  </thead>\n",
              "  <tbody>\n",
              "    <tr>\n",
              "      <th>0</th>\n",
              "      <td>False</td>\n",
              "      <td>False</td>\n",
              "      <td>False</td>\n",
              "      <td>False</td>\n",
              "      <td>False</td>\n",
              "      <td>False</td>\n",
              "      <td>False</td>\n",
              "      <td>False</td>\n",
              "      <td>False</td>\n",
              "      <td>False</td>\n",
              "      <td>True</td>\n",
              "      <td>False</td>\n",
              "      <td>False</td>\n",
              "      <td>False</td>\n",
              "    </tr>\n",
              "  </tbody>\n",
              "</table>\n",
              "</div>"
            ],
            "text/plain": [
              "   cat_personal_care  cat_health_fitness  cat_misc_pos  cat_travel  \\\n",
              "0              False               False         False       False   \n",
              "\n",
              "   cat_kids_pets  cat_shopping_pos  cat_food_dining  cat_home  \\\n",
              "0          False             False            False     False   \n",
              "\n",
              "   cat_entertainment  cat_shopping_net  cat_misc_net  cat_grocery_pos  \\\n",
              "0              False             False          True            False   \n",
              "\n",
              "   cat_gas_transport  cat_grocery_net  \n",
              "0              False            False  "
            ]
          },
          "execution_count": 79,
          "metadata": {},
          "output_type": "execute_result"
        }
      ],
      "source": [
        "aux_OH_categories.head()"
      ]
    },
    {
      "cell_type": "code",
      "execution_count": 80,
      "metadata": {},
      "outputs": [],
      "source": [
        "new_X = X.drop(columns=columns_to_concat)"
      ]
    },
    {
      "cell_type": "code",
      "execution_count": 81,
      "metadata": {},
      "outputs": [
        {
          "data": {
            "text/html": [
              "<div>\n",
              "<style scoped>\n",
              "    .dataframe tbody tr th:only-of-type {\n",
              "        vertical-align: middle;\n",
              "    }\n",
              "\n",
              "    .dataframe tbody tr th {\n",
              "        vertical-align: top;\n",
              "    }\n",
              "\n",
              "    .dataframe thead th {\n",
              "        text-align: right;\n",
              "    }\n",
              "</style>\n",
              "<table border=\"1\" class=\"dataframe\">\n",
              "  <thead>\n",
              "    <tr style=\"text-align: right;\">\n",
              "      <th></th>\n",
              "      <th>trans_date_trans_time</th>\n",
              "      <th>amt</th>\n",
              "      <th>lat</th>\n",
              "      <th>long</th>\n",
              "      <th>city_pop</th>\n",
              "      <th>merch_lat</th>\n",
              "      <th>merch_long</th>\n",
              "    </tr>\n",
              "  </thead>\n",
              "  <tbody>\n",
              "    <tr>\n",
              "      <th>0</th>\n",
              "      <td>2020-06-21 15:08:30</td>\n",
              "      <td>4.54</td>\n",
              "      <td>40.4679</td>\n",
              "      <td>-77.8967</td>\n",
              "      <td>1334</td>\n",
              "      <td>39.800444</td>\n",
              "      <td>-77.485215</td>\n",
              "    </tr>\n",
              "  </tbody>\n",
              "</table>\n",
              "</div>"
            ],
            "text/plain": [
              "  trans_date_trans_time   amt      lat     long city_pop  merch_lat merch_long\n",
              "0   2020-06-21 15:08:30  4.54  40.4679 -77.8967     1334  39.800444 -77.485215"
            ]
          },
          "execution_count": 81,
          "metadata": {},
          "output_type": "execute_result"
        }
      ],
      "source": [
        "new_X.head()"
      ]
    },
    {
      "cell_type": "code",
      "execution_count": 82,
      "metadata": {},
      "outputs": [],
      "source": [
        "final_row = pd.concat((new_X, aux_OH_categories), axis=1)"
      ]
    },
    {
      "cell_type": "code",
      "execution_count": 83,
      "metadata": {},
      "outputs": [
        {
          "data": {
            "text/html": [
              "<div>\n",
              "<style scoped>\n",
              "    .dataframe tbody tr th:only-of-type {\n",
              "        vertical-align: middle;\n",
              "    }\n",
              "\n",
              "    .dataframe tbody tr th {\n",
              "        vertical-align: top;\n",
              "    }\n",
              "\n",
              "    .dataframe thead th {\n",
              "        text-align: right;\n",
              "    }\n",
              "</style>\n",
              "<table border=\"1\" class=\"dataframe\">\n",
              "  <thead>\n",
              "    <tr style=\"text-align: right;\">\n",
              "      <th></th>\n",
              "      <th>trans_date_trans_time</th>\n",
              "      <th>amt</th>\n",
              "      <th>lat</th>\n",
              "      <th>long</th>\n",
              "      <th>city_pop</th>\n",
              "      <th>merch_lat</th>\n",
              "      <th>merch_long</th>\n",
              "      <th>cat_personal_care</th>\n",
              "      <th>cat_health_fitness</th>\n",
              "      <th>cat_misc_pos</th>\n",
              "      <th>...</th>\n",
              "      <th>cat_kids_pets</th>\n",
              "      <th>cat_shopping_pos</th>\n",
              "      <th>cat_food_dining</th>\n",
              "      <th>cat_home</th>\n",
              "      <th>cat_entertainment</th>\n",
              "      <th>cat_shopping_net</th>\n",
              "      <th>cat_misc_net</th>\n",
              "      <th>cat_grocery_pos</th>\n",
              "      <th>cat_gas_transport</th>\n",
              "      <th>cat_grocery_net</th>\n",
              "    </tr>\n",
              "  </thead>\n",
              "  <tbody>\n",
              "    <tr>\n",
              "      <th>0</th>\n",
              "      <td>2020-06-21 15:08:30</td>\n",
              "      <td>4.54</td>\n",
              "      <td>40.4679</td>\n",
              "      <td>-77.8967</td>\n",
              "      <td>1334</td>\n",
              "      <td>39.800444</td>\n",
              "      <td>-77.485215</td>\n",
              "      <td>False</td>\n",
              "      <td>False</td>\n",
              "      <td>False</td>\n",
              "      <td>...</td>\n",
              "      <td>False</td>\n",
              "      <td>False</td>\n",
              "      <td>False</td>\n",
              "      <td>False</td>\n",
              "      <td>False</td>\n",
              "      <td>False</td>\n",
              "      <td>True</td>\n",
              "      <td>False</td>\n",
              "      <td>False</td>\n",
              "      <td>False</td>\n",
              "    </tr>\n",
              "  </tbody>\n",
              "</table>\n",
              "<p>1 rows × 21 columns</p>\n",
              "</div>"
            ],
            "text/plain": [
              "  trans_date_trans_time   amt      lat     long city_pop  merch_lat  \\\n",
              "0   2020-06-21 15:08:30  4.54  40.4679 -77.8967     1334  39.800444   \n",
              "\n",
              "  merch_long  cat_personal_care  cat_health_fitness  cat_misc_pos  ...  \\\n",
              "0 -77.485215              False               False         False  ...   \n",
              "\n",
              "   cat_kids_pets  cat_shopping_pos  cat_food_dining  cat_home  \\\n",
              "0          False             False            False     False   \n",
              "\n",
              "   cat_entertainment  cat_shopping_net  cat_misc_net  cat_grocery_pos  \\\n",
              "0              False             False          True            False   \n",
              "\n",
              "   cat_gas_transport  cat_grocery_net  \n",
              "0              False            False  \n",
              "\n",
              "[1 rows x 21 columns]"
            ]
          },
          "execution_count": 83,
          "metadata": {},
          "output_type": "execute_result"
        }
      ],
      "source": [
        "final_row.head()"
      ]
    },
    {
      "cell_type": "code",
      "execution_count": 84,
      "metadata": {},
      "outputs": [
        {
          "name": "stdout",
          "output_type": "stream",
          "text": [
            "(1, 23)\n"
          ]
        }
      ],
      "source": [
        "# Date encoding\n",
        "final_row['hour'] = pd.to_datetime(testData['trans_date_trans_time']).dt.hour\n",
        "final_row['day'] = pd.to_datetime(testData['trans_date_trans_time']).dt.day_of_week\n",
        "final_row['month'] = pd.to_datetime(testData['trans_date_trans_time']).dt.month\n",
        "final_row = final_row.drop(columns=['trans_date_trans_time'])\n",
        "print(final_row.shape)"
      ]
    },
    {
      "cell_type": "code",
      "execution_count": 85,
      "metadata": {},
      "outputs": [
        {
          "data": {
            "text/html": [
              "<div>\n",
              "<style scoped>\n",
              "    .dataframe tbody tr th:only-of-type {\n",
              "        vertical-align: middle;\n",
              "    }\n",
              "\n",
              "    .dataframe tbody tr th {\n",
              "        vertical-align: top;\n",
              "    }\n",
              "\n",
              "    .dataframe thead th {\n",
              "        text-align: right;\n",
              "    }\n",
              "</style>\n",
              "<table border=\"1\" class=\"dataframe\">\n",
              "  <thead>\n",
              "    <tr style=\"text-align: right;\">\n",
              "      <th></th>\n",
              "      <th>amt</th>\n",
              "      <th>lat</th>\n",
              "      <th>long</th>\n",
              "      <th>city_pop</th>\n",
              "      <th>merch_lat</th>\n",
              "      <th>merch_long</th>\n",
              "      <th>cat_personal_care</th>\n",
              "      <th>cat_health_fitness</th>\n",
              "      <th>cat_misc_pos</th>\n",
              "      <th>cat_travel</th>\n",
              "      <th>...</th>\n",
              "      <th>cat_home</th>\n",
              "      <th>cat_entertainment</th>\n",
              "      <th>cat_shopping_net</th>\n",
              "      <th>cat_misc_net</th>\n",
              "      <th>cat_grocery_pos</th>\n",
              "      <th>cat_gas_transport</th>\n",
              "      <th>cat_grocery_net</th>\n",
              "      <th>hour</th>\n",
              "      <th>day</th>\n",
              "      <th>month</th>\n",
              "    </tr>\n",
              "  </thead>\n",
              "  <tbody>\n",
              "    <tr>\n",
              "      <th>0</th>\n",
              "      <td>4.54</td>\n",
              "      <td>40.4679</td>\n",
              "      <td>-77.8967</td>\n",
              "      <td>1334</td>\n",
              "      <td>39.800444</td>\n",
              "      <td>-77.485215</td>\n",
              "      <td>False</td>\n",
              "      <td>False</td>\n",
              "      <td>False</td>\n",
              "      <td>False</td>\n",
              "      <td>...</td>\n",
              "      <td>False</td>\n",
              "      <td>False</td>\n",
              "      <td>False</td>\n",
              "      <td>True</td>\n",
              "      <td>False</td>\n",
              "      <td>False</td>\n",
              "      <td>False</td>\n",
              "      <td>12</td>\n",
              "      <td>6</td>\n",
              "      <td>6</td>\n",
              "    </tr>\n",
              "  </tbody>\n",
              "</table>\n",
              "<p>1 rows × 23 columns</p>\n",
              "</div>"
            ],
            "text/plain": [
              "    amt      lat     long city_pop  merch_lat merch_long  cat_personal_care  \\\n",
              "0  4.54  40.4679 -77.8967     1334  39.800444 -77.485215              False   \n",
              "\n",
              "   cat_health_fitness  cat_misc_pos  cat_travel  ...  cat_home  \\\n",
              "0               False         False       False  ...     False   \n",
              "\n",
              "   cat_entertainment  cat_shopping_net  cat_misc_net  cat_grocery_pos  \\\n",
              "0              False             False          True            False   \n",
              "\n",
              "   cat_gas_transport  cat_grocery_net  hour  day  month  \n",
              "0              False            False    12    6      6  \n",
              "\n",
              "[1 rows x 23 columns]"
            ]
          },
          "execution_count": 85,
          "metadata": {},
          "output_type": "execute_result"
        }
      ],
      "source": [
        "final_row.head()"
      ]
    },
    {
      "cell_type": "code",
      "execution_count": 86,
      "metadata": {},
      "outputs": [
        {
          "name": "stderr",
          "output_type": "stream",
          "text": [
            "c:\\Users\\U S U A R I O\\AppData\\Local\\Programs\\Python\\Python311\\Lib\\site-packages\\sklearn\\base.py:465: UserWarning: X does not have valid feature names, but StandardScaler was fitted with feature names\n",
            "  warnings.warn(\n"
          ]
        }
      ],
      "source": [
        "scaler = StandardScaler()\n",
        "final_row = scaler.fit_transform(final_row)\n",
        "final_row = scaler.transform(final_row)"
      ]
    },
    {
      "cell_type": "code",
      "execution_count": 87,
      "metadata": {},
      "outputs": [
        {
          "name": "stdout",
          "output_type": "stream",
          "text": [
            "Model: \"sequential\"\n",
            "_________________________________________________________________\n",
            " Layer (type)                Output Shape              Param #   \n",
            "=================================================================\n",
            " dense (Dense)               (None, 32)                768       \n",
            "                                                                 \n",
            " dense_1 (Dense)             (None, 64)                2112      \n",
            "                                                                 \n",
            " dense_2 (Dense)             (None, 64)                4160      \n",
            "                                                                 \n",
            " dense_3 (Dense)             (None, 32)                2080      \n",
            "                                                                 \n",
            " dense_4 (Dense)             (None, 1)                 33        \n",
            "                                                                 \n",
            "=================================================================\n",
            "Total params: 9153 (35.75 KB)\n",
            "Trainable params: 9153 (35.75 KB)\n",
            "Non-trainable params: 0 (0.00 Byte)\n",
            "_________________________________________________________________\n"
          ]
        }
      ],
      "source": [
        "loaded_model = tf.keras.models.load_model(\"../v6/detectorV6.h5\")\n",
        "loaded_model.summary()"
      ]
    },
    {
      "cell_type": "code",
      "execution_count": 88,
      "metadata": {},
      "outputs": [
        {
          "name": "stdout",
          "output_type": "stream",
          "text": [
            "1/1 [==============================] - 0s 53ms/step\n"
          ]
        }
      ],
      "source": [
        "predict = loaded_model.predict(final_row)"
      ]
    },
    {
      "cell_type": "code",
      "execution_count": 65,
      "metadata": {},
      "outputs": [],
      "source": [
        "predicted = (predict > 0.5).astype(float)"
      ]
    },
    {
      "cell_type": "code",
      "execution_count": 69,
      "metadata": {},
      "outputs": [
        {
          "data": {
            "text/html": [
              "<div>\n",
              "<style scoped>\n",
              "    .dataframe tbody tr th:only-of-type {\n",
              "        vertical-align: middle;\n",
              "    }\n",
              "\n",
              "    .dataframe tbody tr th {\n",
              "        vertical-align: top;\n",
              "    }\n",
              "\n",
              "    .dataframe thead th {\n",
              "        text-align: right;\n",
              "    }\n",
              "</style>\n",
              "<table border=\"1\" class=\"dataframe\">\n",
              "  <thead>\n",
              "    <tr style=\"text-align: right;\">\n",
              "      <th></th>\n",
              "      <th>trans_date_trans_time</th>\n",
              "      <th>category</th>\n",
              "      <th>amt</th>\n",
              "      <th>lat</th>\n",
              "      <th>long</th>\n",
              "      <th>city_pop</th>\n",
              "      <th>merch_lat</th>\n",
              "      <th>merch_long</th>\n",
              "      <th>is_fraud</th>\n",
              "      <th>predicted</th>\n",
              "    </tr>\n",
              "  </thead>\n",
              "  <tbody>\n",
              "    <tr>\n",
              "      <th>0</th>\n",
              "      <td>2020-06-21 15:08:30</td>\n",
              "      <td>misc_net</td>\n",
              "      <td>4.54</td>\n",
              "      <td>40.4679</td>\n",
              "      <td>-77.8967</td>\n",
              "      <td>1334</td>\n",
              "      <td>39.800444</td>\n",
              "      <td>-77.485215</td>\n",
              "      <td>0</td>\n",
              "      <td>1.0</td>\n",
              "    </tr>\n",
              "  </tbody>\n",
              "</table>\n",
              "</div>"
            ],
            "text/plain": [
              "  trans_date_trans_time  category   amt      lat     long city_pop  merch_lat  \\\n",
              "0   2020-06-21 15:08:30  misc_net  4.54  40.4679 -77.8967     1334  39.800444   \n",
              "\n",
              "  merch_long is_fraud  predicted  \n",
              "0 -77.485215        0        1.0  "
            ]
          },
          "execution_count": 69,
          "metadata": {},
          "output_type": "execute_result"
        }
      ],
      "source": [
        "purchaseData['predicted'] = predicted\n",
        "purchaseData"
      ]
    }
  ],
  "metadata": {
    "colab": {
      "provenance": []
    },
    "kernelspec": {
      "display_name": "Python 3",
      "language": "python",
      "name": "python3"
    },
    "language_info": {
      "codemirror_mode": {
        "name": "ipython",
        "version": 3
      },
      "file_extension": ".py",
      "mimetype": "text/x-python",
      "name": "python",
      "nbconvert_exporter": "python",
      "pygments_lexer": "ipython3",
      "version": "3.11.5"
    }
  },
  "nbformat": 4,
  "nbformat_minor": 0
}
