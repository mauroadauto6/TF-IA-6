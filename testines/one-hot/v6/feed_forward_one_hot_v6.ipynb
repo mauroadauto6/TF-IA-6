{
  "cells": [
    {
      "cell_type": "code",
      "execution_count": 2,
      "metadata": {
        "id": "B0r0HYmqIcNk"
      },
      "outputs": [],
      "source": [
        "\n",
        "import numpy as np\n",
        "import pandas as pd\n",
        "import tensorflow as tf\n",
        "import matplotlib.pyplot as plt\n",
        "from sklearn.model_selection import train_test_split\n",
        "from sklearn.preprocessing import StandardScaler\n",
        "from sklearn.metrics import confusion_matrix, classification_report"
      ]
    },
    {
      "cell_type": "markdown",
      "metadata": {
        "id": "tune4_h3IcNm"
      },
      "source": [
        "# Creating and training model"
      ]
    },
    {
      "cell_type": "markdown",
      "metadata": {
        "id": "W9E8lHINIcNn"
      },
      "source": [
        "## Train and Test data"
      ]
    },
    {
      "cell_type": "code",
      "execution_count": 14,
      "metadata": {
        "id": "CxWQnLm_IcNn"
      },
      "outputs": [],
      "source": [
        "# train\n",
        "trainDataRaw = pd.read_csv('../../../datasets/fraudTest.csv')\n",
        "#print(trainDataRaw.shape)\n",
        "#print(trainDataRaw.head())"
      ]
    },
    {
      "cell_type": "code",
      "execution_count": 33,
      "metadata": {
        "id": "f-XF5h1fJ-L0"
      },
      "outputs": [],
      "source": [
        "#SOBREMUESTREO\n",
        "fraudes = trainDataRaw[trainDataRaw['is_fraud']==1]\n",
        "no_fraudes = trainDataRaw[trainDataRaw['is_fraud']==0]"
      ]
    },
    {
      "cell_type": "code",
      "execution_count": 34,
      "metadata": {
        "id": "5L-c2d-aKVe6"
      },
      "outputs": [],
      "source": [
        "sobremuestreo_fraude = fraudes.sample(n=400000, replace = True, random_state=0)\n",
        "#sobremuestreo_fraude"
      ]
    },
    {
      "cell_type": "code",
      "execution_count": 35,
      "metadata": {
        "id": "iJy2HtOaLK4B"
      },
      "outputs": [],
      "source": [
        "sobremuestreo_nofraude = no_fraudes.sample(n=500000, replace = False, random_state=0)\n",
        "#sobremuestreo_nofraude"
      ]
    },
    {
      "cell_type": "code",
      "execution_count": 36,
      "metadata": {
        "id": "cH4XCT2yLirn"
      },
      "outputs": [],
      "source": [
        "#concatenacion\n",
        "\n",
        "trainDataRaw = pd.concat([sobremuestreo_nofraude, sobremuestreo_fraude], axis=0, ignore_index=True)\n",
        "#trainDataRaw"
      ]
    },
    {
      "cell_type": "code",
      "execution_count": 37,
      "metadata": {},
      "outputs": [
        {
          "data": {
            "text/plain": [
              "(900000, 23)"
            ]
          },
          "execution_count": 37,
          "metadata": {},
          "output_type": "execute_result"
        }
      ],
      "source": [
        "trainDataRaw.shape"
      ]
    },
    {
      "cell_type": "code",
      "execution_count": null,
      "metadata": {},
      "outputs": [],
      "source": []
    },
    {
      "cell_type": "markdown",
      "metadata": {
        "id": "Xwcg_e2-IcNp"
      },
      "source": [
        "## Visualizing Data"
      ]
    },
    {
      "cell_type": "code",
      "execution_count": 38,
      "metadata": {
        "colab": {
          "base_uri": "https://localhost:8080/"
        },
        "id": "g6Az72HRIcNp",
        "outputId": "1d1105dd-b222-43b5-932a-f3384a7d1acd"
      },
      "outputs": [
        {
          "name": "stdout",
          "output_type": "stream",
          "text": [
            "is_fraud\n",
            "0    500000\n",
            "1    400000\n",
            "Name: count, dtype: int64\n"
          ]
        }
      ],
      "source": [
        "print(trainDataRaw['is_fraud'].value_counts())"
      ]
    },
    {
      "cell_type": "code",
      "execution_count": 39,
      "metadata": {
        "colab": {
          "base_uri": "https://localhost:8080/",
          "height": 521
        },
        "id": "I3eH_3ipIcNp",
        "outputId": "0293168d-eb6b-41a8-df0c-b7483c8bbe5b"
      },
      "outputs": [
        {
          "data": {
            "image/png": "[encoded data removed]",
            "text/plain": [
              "<Figure size 600x600 with 1 Axes>"
            ]
          },
          "metadata": {},
          "output_type": "display_data"
        }
      ],
      "source": [
        "piecito = trainDataRaw['is_fraud'].value_counts()\n",
        "\n",
        "plt.figure(figsize=(6, 6))\n",
        "plt.pie(piecito, labels=piecito, autopct='%1.1f%%', pctdistance=0.8 , startangle=140)\n",
        "\n",
        "cir = plt.Circle((0.0, 0.0), 0.5, fc='white')\n",
        "fig = plt.gcf()\n",
        "fig.gca().add_artist(cir)\n",
        "\n",
        "plt.title('Distribución de Fraude (is_fraud)')\n",
        "plt.axis('equal')\n",
        "\n",
        "plt.show()\n"
      ]
    },
    {
      "cell_type": "markdown",
      "metadata": {
        "id": "JTWwZ_SmIcNq"
      },
      "source": [
        "## Data cleaning (trainData)"
      ]
    },
    {
      "cell_type": "code",
      "execution_count": 45,
      "metadata": {
        "id": "c_YSDZ8xIcNr"
      },
      "outputs": [],
      "source": [
        "columns_out = ['Unnamed: 0', 'cc_num', 'merchant', 'state', 'first', 'last', 'gender', 'street', 'city', 'zip', 'city', 'job', 'dob', 'trans_num', 'unix_time']"
      ]
    },
    {
      "cell_type": "code",
      "execution_count": 46,
      "metadata": {
        "id": "Vv5Sad-lIcNr"
      },
      "outputs": [],
      "source": [
        "trainData = trainDataRaw.drop(columns=columns_out)"
      ]
    },
    {
      "cell_type": "code",
      "execution_count": 47,
      "metadata": {},
      "outputs": [],
      "source": [
        "# 'Chocolateo'\n",
        "trainData = trainData.sample(frac=1).reset_index(drop=True)"
      ]
    },
    {
      "cell_type": "markdown",
      "metadata": {
        "id": "NCvfnTPTIcNt"
      },
      "source": [
        "## Data Cleaning"
      ]
    },
    {
      "cell_type": "code",
      "execution_count": 48,
      "metadata": {
        "colab": {
          "base_uri": "https://localhost:8080/"
        },
        "id": "ejlprVMuIcNt",
        "outputId": "6d8203f1-eb78-4c1e-e04a-ebdc8200ac59"
      },
      "outputs": [
        {
          "name": "stdout",
          "output_type": "stream",
          "text": [
            "(900000, 23)\n"
          ]
        }
      ],
      "source": [
        "# Category encoding\n",
        "Xtrain = pd.get_dummies(trainData, columns=['category'], prefix='cat')\n",
        "Xtrain = Xtrain.drop(columns=['is_fraud'])\n",
        "# Date encoding\n",
        "Xtrain['hour'] = pd.to_datetime(trainData['trans_date_trans_time']).dt.hour\n",
        "Xtrain['day'] = pd.to_datetime(trainData['trans_date_trans_time']).dt.day_of_week\n",
        "Xtrain['month'] = pd.to_datetime(trainData['trans_date_trans_time']).dt.month\n",
        "Xtrain = Xtrain.drop(columns=['trans_date_trans_time'])\n",
        "print(Xtrain.shape)"
      ]
    },
    {
      "cell_type": "code",
      "execution_count": 49,
      "metadata": {
        "id": "wvgrVawPIcNt"
      },
      "outputs": [
        {
          "data": {
            "text/html": [
              "<div>\n",
              "<style scoped>\n",
              "    .dataframe tbody tr th:only-of-type {\n",
              "        vertical-align: middle;\n",
              "    }\n",
              "\n",
              "    .dataframe tbody tr th {\n",
              "        vertical-align: top;\n",
              "    }\n",
              "\n",
              "    .dataframe thead th {\n",
              "        text-align: right;\n",
              "    }\n",
              "</style>\n",
              "<table border=\"1\" class=\"dataframe\">\n",
              "  <thead>\n",
              "    <tr style=\"text-align: right;\">\n",
              "      <th></th>\n",
              "      <th>amt</th>\n",
              "      <th>lat</th>\n",
              "      <th>long</th>\n",
              "      <th>city_pop</th>\n",
              "      <th>merch_lat</th>\n",
              "      <th>merch_long</th>\n",
              "      <th>cat_entertainment</th>\n",
              "      <th>cat_food_dining</th>\n",
              "      <th>cat_gas_transport</th>\n",
              "      <th>cat_grocery_net</th>\n",
              "      <th>...</th>\n",
              "      <th>cat_kids_pets</th>\n",
              "      <th>cat_misc_net</th>\n",
              "      <th>cat_misc_pos</th>\n",
              "      <th>cat_personal_care</th>\n",
              "      <th>cat_shopping_net</th>\n",
              "      <th>cat_shopping_pos</th>\n",
              "      <th>cat_travel</th>\n",
              "      <th>hour</th>\n",
              "      <th>day</th>\n",
              "      <th>month</th>\n",
              "    </tr>\n",
              "  </thead>\n",
              "  <tbody>\n",
              "    <tr>\n",
              "      <th>0</th>\n",
              "      <td>1128.66</td>\n",
              "      <td>36.7410</td>\n",
              "      <td>-108.3510</td>\n",
              "      <td>6910</td>\n",
              "      <td>37.469160</td>\n",
              "      <td>-108.865800</td>\n",
              "      <td>False</td>\n",
              "      <td>False</td>\n",
              "      <td>False</td>\n",
              "      <td>False</td>\n",
              "      <td>...</td>\n",
              "      <td>False</td>\n",
              "      <td>False</td>\n",
              "      <td>False</td>\n",
              "      <td>False</td>\n",
              "      <td>True</td>\n",
              "      <td>False</td>\n",
              "      <td>False</td>\n",
              "      <td>23</td>\n",
              "      <td>0</td>\n",
              "      <td>9</td>\n",
              "    </tr>\n",
              "    <tr>\n",
              "      <th>1</th>\n",
              "      <td>10.32</td>\n",
              "      <td>45.7364</td>\n",
              "      <td>-94.1658</td>\n",
              "      <td>6263</td>\n",
              "      <td>45.707033</td>\n",
              "      <td>-93.280211</td>\n",
              "      <td>False</td>\n",
              "      <td>False</td>\n",
              "      <td>False</td>\n",
              "      <td>False</td>\n",
              "      <td>...</td>\n",
              "      <td>False</td>\n",
              "      <td>False</td>\n",
              "      <td>False</td>\n",
              "      <td>False</td>\n",
              "      <td>False</td>\n",
              "      <td>False</td>\n",
              "      <td>True</td>\n",
              "      <td>22</td>\n",
              "      <td>4</td>\n",
              "      <td>7</td>\n",
              "    </tr>\n",
              "    <tr>\n",
              "      <th>2</th>\n",
              "      <td>881.12</td>\n",
              "      <td>55.4732</td>\n",
              "      <td>-133.1171</td>\n",
              "      <td>1920</td>\n",
              "      <td>56.034742</td>\n",
              "      <td>-132.408328</td>\n",
              "      <td>False</td>\n",
              "      <td>False</td>\n",
              "      <td>False</td>\n",
              "      <td>False</td>\n",
              "      <td>...</td>\n",
              "      <td>False</td>\n",
              "      <td>False</td>\n",
              "      <td>False</td>\n",
              "      <td>False</td>\n",
              "      <td>True</td>\n",
              "      <td>False</td>\n",
              "      <td>False</td>\n",
              "      <td>23</td>\n",
              "      <td>3</td>\n",
              "      <td>12</td>\n",
              "    </tr>\n",
              "    <tr>\n",
              "      <th>3</th>\n",
              "      <td>333.73</td>\n",
              "      <td>39.3900</td>\n",
              "      <td>-88.9597</td>\n",
              "      <td>1532</td>\n",
              "      <td>39.249456</td>\n",
              "      <td>-89.353877</td>\n",
              "      <td>False</td>\n",
              "      <td>False</td>\n",
              "      <td>False</td>\n",
              "      <td>False</td>\n",
              "      <td>...</td>\n",
              "      <td>False</td>\n",
              "      <td>False</td>\n",
              "      <td>False</td>\n",
              "      <td>False</td>\n",
              "      <td>False</td>\n",
              "      <td>False</td>\n",
              "      <td>False</td>\n",
              "      <td>1</td>\n",
              "      <td>4</td>\n",
              "      <td>11</td>\n",
              "    </tr>\n",
              "    <tr>\n",
              "      <th>4</th>\n",
              "      <td>60.46</td>\n",
              "      <td>36.7779</td>\n",
              "      <td>-81.7676</td>\n",
              "      <td>5657</td>\n",
              "      <td>36.638717</td>\n",
              "      <td>-81.949226</td>\n",
              "      <td>False</td>\n",
              "      <td>False</td>\n",
              "      <td>False</td>\n",
              "      <td>False</td>\n",
              "      <td>...</td>\n",
              "      <td>False</td>\n",
              "      <td>False</td>\n",
              "      <td>False</td>\n",
              "      <td>False</td>\n",
              "      <td>False</td>\n",
              "      <td>False</td>\n",
              "      <td>False</td>\n",
              "      <td>12</td>\n",
              "      <td>3</td>\n",
              "      <td>7</td>\n",
              "    </tr>\n",
              "  </tbody>\n",
              "</table>\n",
              "<p>5 rows × 23 columns</p>\n",
              "</div>"
            ],
            "text/plain": [
              "       amt      lat      long  city_pop  merch_lat  merch_long  \\\n",
              "0  1128.66  36.7410 -108.3510      6910  37.469160 -108.865800   \n",
              "1    10.32  45.7364  -94.1658      6263  45.707033  -93.280211   \n",
              "2   881.12  55.4732 -133.1171      1920  56.034742 -132.408328   \n",
              "3   333.73  39.3900  -88.9597      1532  39.249456  -89.353877   \n",
              "4    60.46  36.7779  -81.7676      5657  36.638717  -81.949226   \n",
              "\n",
              "   cat_entertainment  cat_food_dining  cat_gas_transport  cat_grocery_net  \\\n",
              "0              False            False              False            False   \n",
              "1              False            False              False            False   \n",
              "2              False            False              False            False   \n",
              "3              False            False              False            False   \n",
              "4              False            False              False            False   \n",
              "\n",
              "   ...  cat_kids_pets  cat_misc_net  cat_misc_pos  cat_personal_care  \\\n",
              "0  ...          False         False         False              False   \n",
              "1  ...          False         False         False              False   \n",
              "2  ...          False         False         False              False   \n",
              "3  ...          False         False         False              False   \n",
              "4  ...          False         False         False              False   \n",
              "\n",
              "   cat_shopping_net  cat_shopping_pos  cat_travel  hour  day  month  \n",
              "0              True             False       False    23    0      9  \n",
              "1             False             False        True    22    4      7  \n",
              "2              True             False       False    23    3     12  \n",
              "3             False             False       False     1    4     11  \n",
              "4             False             False       False    12    3      7  \n",
              "\n",
              "[5 rows x 23 columns]"
            ]
          },
          "execution_count": 49,
          "metadata": {},
          "output_type": "execute_result"
        }
      ],
      "source": [
        "Xtrain.head()"
      ]
    },
    {
      "cell_type": "code",
      "execution_count": 50,
      "metadata": {
        "id": "hF6RjDYDIcNu"
      },
      "outputs": [
        {
          "data": {
            "text/plain": [
              "0         1\n",
              "1         1\n",
              "2         1\n",
              "3         1\n",
              "4         0\n",
              "         ..\n",
              "899995    1\n",
              "899996    0\n",
              "899997    1\n",
              "899998    0\n",
              "899999    0\n",
              "Name: is_fraud, Length: 900000, dtype: int64"
            ]
          },
          "execution_count": 50,
          "metadata": {},
          "output_type": "execute_result"
        }
      ],
      "source": [
        "ytrain = trainData['is_fraud']\n",
        "#print(ytrain.head())\n",
        "#print(ytrain.shape)\n",
        "ytrain"
      ]
    },
    {
      "cell_type": "code",
      "execution_count": 51,
      "metadata": {
        "colab": {
          "base_uri": "https://localhost:8080/"
        },
        "id": "OghsLrPTIcNu",
        "outputId": "31af6bee-d2ac-4e64-cd5c-cf9f3385b3f5"
      },
      "outputs": [
        {
          "data": {
            "text/plain": [
              "(900000, 23)"
            ]
          },
          "execution_count": 51,
          "metadata": {},
          "output_type": "execute_result"
        }
      ],
      "source": [
        "Xtrain.shape"
      ]
    },
    {
      "cell_type": "markdown",
      "metadata": {
        "id": "Sl7YwZlVIcNw"
      },
      "source": [
        "## Training the model"
      ]
    },
    {
      "cell_type": "code",
      "execution_count": 52,
      "metadata": {
        "id": "S_FfjiOOIcNw"
      },
      "outputs": [],
      "source": [
        "X, Xtest, y, ytest = train_test_split(Xtrain, ytrain, test_size=0.20, random_state=42, stratify=ytrain)\n",
        "\n",
        "scaler = StandardScaler()\n",
        "X = scaler.fit_transform(X)\n",
        "Xtest = scaler.transform(Xtest)"
      ]
    },
    {
      "cell_type": "code",
      "execution_count": 53,
      "metadata": {
        "id": "Y6sVe4o_IcNx"
      },
      "outputs": [],
      "source": [
        "# Modelo feed-forward\n",
        "model = tf.keras.Sequential([\n",
        "    tf.keras.layers.Dense(units=32, activation='relu', input_dim=X.shape[1]),\n",
        "    tf.keras.layers.Dense(units=64, activation='relu'),\n",
        "    tf.keras.layers.Dense(units=64, activation='relu'),\n",
        "    tf.keras.layers.Dense(units=32, activation='relu'),\n",
        "    tf.keras.layers.Dense(units=1, activation='sigmoid')\n",
        "])\n",
        "# X.shape[1] = 23"
      ]
    },
    {
      "cell_type": "code",
      "execution_count": 54,
      "metadata": {
        "id": "nPJ7NE1uIcNx"
      },
      "outputs": [],
      "source": [
        "# Learning rate for RMSprop\n",
        "lr = 0.0001\n",
        "optimizer = tf.keras.optimizers.RMSprop(learning_rate=lr)"
      ]
    },
    {
      "cell_type": "code",
      "execution_count": 55,
      "metadata": {
        "colab": {
          "base_uri": "https://localhost:8080/"
        },
        "id": "niopThBNIcNx",
        "outputId": "738e61a5-2d85-47b7-fe6b-f72ee79295a5"
      },
      "outputs": [
        {
          "name": "stdout",
          "output_type": "stream",
          "text": [
            "Model: \"sequential\"\n",
            "_________________________________________________________________\n",
            " Layer (type)                Output Shape              Param #   \n",
            "=================================================================\n",
            " dense (Dense)               (None, 32)                768       \n",
            "                                                                 \n",
            " dense_1 (Dense)             (None, 64)                2112      \n",
            "                                                                 \n",
            " dense_2 (Dense)             (None, 64)                4160      \n",
            "                                                                 \n",
            " dense_3 (Dense)             (None, 32)                2080      \n",
            "                                                                 \n",
            " dense_4 (Dense)             (None, 1)                 33        \n",
            "                                                                 \n",
            "=================================================================\n",
            "Total params: 9153 (35.75 KB)\n",
            "Trainable params: 9153 (35.75 KB)\n",
            "Non-trainable params: 0 (0.00 Byte)\n",
            "_________________________________________________________________\n"
          ]
        }
      ],
      "source": [
        "# Compile\n",
        "model.compile(optimizer=optimizer, loss='binary_crossentropy', metrics=['accuracy'])\n",
        "model.summary()"
      ]
    },
    {
      "cell_type": "code",
      "execution_count": 56,
      "metadata": {
        "colab": {
          "base_uri": "https://localhost:8080/"
        },
        "id": "9aitxXsJIcNx",
        "outputId": "d89c651a-4410-471c-8ac1-1ef6b44b899d"
      },
      "outputs": [
        {
          "name": "stdout",
          "output_type": "stream",
          "text": [
            "Epoch 1/10\n",
            "45000/45000 [==============================] - 63s 1ms/step - loss: 0.1806 - accuracy: 0.9273 - val_loss: 0.1004 - val_accuracy: 0.9621\n",
            "Epoch 2/10\n",
            "45000/45000 [==============================] - 62s 1ms/step - loss: 0.0988 - accuracy: 0.9623 - val_loss: 0.1027 - val_accuracy: 0.9601\n",
            "Epoch 3/10\n",
            "45000/45000 [==============================] - 62s 1ms/step - loss: 0.0952 - accuracy: 0.9639 - val_loss: 0.0929 - val_accuracy: 0.9646\n",
            "Epoch 4/10\n",
            "45000/45000 [==============================] - 62s 1ms/step - loss: 0.0927 - accuracy: 0.9652 - val_loss: 0.0857 - val_accuracy: 0.9671\n",
            "Epoch 5/10\n",
            "45000/45000 [==============================] - 62s 1ms/step - loss: 0.0892 - accuracy: 0.9660 - val_loss: 0.0893 - val_accuracy: 0.9678\n",
            "Epoch 6/10\n",
            "45000/45000 [==============================] - 62s 1ms/step - loss: 0.0881 - accuracy: 0.9669 - val_loss: 0.0828 - val_accuracy: 0.9691\n",
            "Epoch 7/10\n",
            "45000/45000 [==============================] - 62s 1ms/step - loss: 0.0875 - accuracy: 0.9678 - val_loss: 0.0822 - val_accuracy: 0.9710\n",
            "Epoch 8/10\n",
            "45000/45000 [==============================] - 62s 1ms/step - loss: 0.0877 - accuracy: 0.9684 - val_loss: 0.0950 - val_accuracy: 0.9699\n",
            "Epoch 9/10\n",
            "45000/45000 [==============================] - 63s 1ms/step - loss: 0.0886 - accuracy: 0.9684 - val_loss: 0.0932 - val_accuracy: 0.9695\n",
            "Epoch 10/10\n",
            "45000/45000 [==============================] - 62s 1ms/step - loss: 0.0895 - accuracy: 0.9683 - val_loss: 0.0795 - val_accuracy: 0.9729\n"
          ]
        },
        {
          "name": "stderr",
          "output_type": "stream",
          "text": [
            "c:\\Users\\U S U A R I O\\AppData\\Local\\Programs\\Python\\Python311\\Lib\\site-packages\\keras\\src\\engine\\training.py:3079: UserWarning: You are saving your model as an HDF5 file via `model.save()`. This file format is considered legacy. We recommend using instead the native Keras format, e.g. `model.save('my_model.keras')`.\n",
            "  saving_api.save_model(\n"
          ]
        }
      ],
      "source": [
        "# Train\n",
        "model.fit(X, y, epochs=10, batch_size=16, validation_data=(Xtest, ytest))\n",
        "model.save('detectorV6.h5')"
      ]
    },
    {
      "cell_type": "code",
      "execution_count": 57,
      "metadata": {
        "colab": {
          "base_uri": "https://localhost:8080/"
        },
        "id": "-h13jJ83IcNx",
        "outputId": "ff1c2bd9-631a-4c34-8bb0-5c61cee1ac6e"
      },
      "outputs": [
        {
          "name": "stdout",
          "output_type": "stream",
          "text": [
            "5625/5625 [==============================] - 5s 938us/step\n"
          ]
        }
      ],
      "source": [
        "# Evaluate the model\n",
        "predict = model.predict(Xtest)"
      ]
    },
    {
      "cell_type": "code",
      "execution_count": 58,
      "metadata": {
        "id": "8BRUB7BFIcNy"
      },
      "outputs": [],
      "source": [
        "predict = (predict > 0.5) # if prob > 0.5 is fraud and vice versa"
      ]
    },
    {
      "cell_type": "code",
      "execution_count": 59,
      "metadata": {
        "colab": {
          "base_uri": "https://localhost:8080/"
        },
        "id": "giM-pTMIIcNy",
        "outputId": "9e55bbca-413b-4739-d3a1-3e2ab99b9c2f"
      },
      "outputs": [
        {
          "name": "stdout",
          "output_type": "stream",
          "text": [
            "Confusion Matrix:\n",
            "[[96607  3393]\n",
            " [ 1476 78524]]\n"
          ]
        }
      ],
      "source": [
        "# Confusion matrix\n",
        "confusion = confusion_matrix(ytest, predict)\n",
        "print(\"Confusion Matrix:\")\n",
        "print(confusion)\n",
        "# Correct 0 - Incorrect 1\n",
        "# Incorrect 0 - Correct 1\n",
        "#TN FP\n",
        "#FN TP"
      ]
    },
    {
      "cell_type": "code",
      "execution_count": 60,
      "metadata": {
        "colab": {
          "base_uri": "https://localhost:8080/"
        },
        "id": "Bm-EtyDLIcNy",
        "outputId": "5f51cdc3-a644-42da-a050-bc9f7e99b91a"
      },
      "outputs": [
        {
          "name": "stdout",
          "output_type": "stream",
          "text": [
            "Classification Report:\n",
            "              precision    recall  f1-score   support\n",
            "\n",
            "           0       0.98      0.97      0.98    100000\n",
            "           1       0.96      0.98      0.97     80000\n",
            "\n",
            "    accuracy                           0.97    180000\n",
            "   macro avg       0.97      0.97      0.97    180000\n",
            "weighted avg       0.97      0.97      0.97    180000\n",
            "\n"
          ]
        }
      ],
      "source": [
        "# Classification report\n",
        "report = classification_report(ytest, predict)\n",
        "print(\"Classification Report:\")\n",
        "print(report)"
      ]
    }
  ],
  "metadata": {
    "colab": {
      "provenance": []
    },
    "kernelspec": {
      "display_name": "Python 3",
      "language": "python",
      "name": "python3"
    },
    "language_info": {
      "codemirror_mode": {
        "name": "ipython",
        "version": 3
      },
      "file_extension": ".py",
      "mimetype": "text/x-python",
      "name": "python",
      "nbconvert_exporter": "python",
      "pygments_lexer": "ipython3",
      "version": "3.11.5"
    }
  },
  "nbformat": 4,
  "nbformat_minor": 0
}
