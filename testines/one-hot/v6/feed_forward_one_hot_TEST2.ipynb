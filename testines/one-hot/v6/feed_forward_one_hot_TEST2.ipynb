{
  "cells": [
    {
      "cell_type": "code",
      "execution_count": 238,
      "metadata": {
        "id": "B0r0HYmqIcNk"
      },
      "outputs": [],
      "source": [
        "\n",
        "import numpy as np\n",
        "import pandas as pd\n",
        "import tensorflow as tf\n",
        "import matplotlib.pyplot as plt\n",
        "from sklearn.preprocessing import StandardScaler"
      ]
    },
    {
      "cell_type": "markdown",
      "metadata": {},
      "source": [
        "# ONE LINE"
      ]
    },
    {
      "cell_type": "code",
      "execution_count": 239,
      "metadata": {},
      "outputs": [],
      "source": [
        "model = tf.keras.models.load_model('detectorV6.h5')"
      ]
    },
    {
      "cell_type": "code",
      "execution_count": 240,
      "metadata": {},
      "outputs": [],
      "source": [
        "testDataRaw = pd.read_csv('../../../datasets/fraudTest.csv')"
      ]
    },
    {
      "cell_type": "code",
      "execution_count": 278,
      "metadata": {},
      "outputs": [
        {
          "name": "stdout",
          "output_type": "stream",
          "text": [
            "(1, 23)\n"
          ]
        },
        {
          "data": {
            "text/html": [
              "<div>\n",
              "<style scoped>\n",
              "    .dataframe tbody tr th:only-of-type {\n",
              "        vertical-align: middle;\n",
              "    }\n",
              "\n",
              "    .dataframe tbody tr th {\n",
              "        vertical-align: top;\n",
              "    }\n",
              "\n",
              "    .dataframe thead th {\n",
              "        text-align: right;\n",
              "    }\n",
              "</style>\n",
              "<table border=\"1\" class=\"dataframe\">\n",
              "  <thead>\n",
              "    <tr style=\"text-align: right;\">\n",
              "      <th></th>\n",
              "      <th>Unnamed: 0</th>\n",
              "      <th>trans_date_trans_time</th>\n",
              "      <th>cc_num</th>\n",
              "      <th>merchant</th>\n",
              "      <th>category</th>\n",
              "      <th>amt</th>\n",
              "      <th>first</th>\n",
              "      <th>last</th>\n",
              "      <th>gender</th>\n",
              "      <th>street</th>\n",
              "      <th>...</th>\n",
              "      <th>lat</th>\n",
              "      <th>long</th>\n",
              "      <th>city_pop</th>\n",
              "      <th>job</th>\n",
              "      <th>dob</th>\n",
              "      <th>trans_num</th>\n",
              "      <th>unix_time</th>\n",
              "      <th>merch_lat</th>\n",
              "      <th>merch_long</th>\n",
              "      <th>is_fraud</th>\n",
              "    </tr>\n",
              "  </thead>\n",
              "  <tbody>\n",
              "    <tr>\n",
              "      <th>218302</th>\n",
              "      <td>218302</td>\n",
              "      <td>2020-09-07 00:28:46</td>\n",
              "      <td>3597926034019603</td>\n",
              "      <td>fraud_O'Keefe-Hudson</td>\n",
              "      <td>grocery_pos</td>\n",
              "      <td>258.85</td>\n",
              "      <td>Derrick</td>\n",
              "      <td>Flores</td>\n",
              "      <td>M</td>\n",
              "      <td>83690 Nicholas Ports Apt. 846</td>\n",
              "      <td>...</td>\n",
              "      <td>35.2229</td>\n",
              "      <td>-89.5518</td>\n",
              "      <td>9496</td>\n",
              "      <td>Furniture conservator/restorer</td>\n",
              "      <td>1993-03-23</td>\n",
              "      <td>df8f431aec59a1c81f6c0ea942f665e7</td>\n",
              "      <td>1378513726</td>\n",
              "      <td>34.886426</td>\n",
              "      <td>-89.282649</td>\n",
              "      <td>1</td>\n",
              "    </tr>\n",
              "  </tbody>\n",
              "</table>\n",
              "<p>1 rows × 23 columns</p>\n",
              "</div>"
            ],
            "text/plain": [
              "        Unnamed: 0 trans_date_trans_time            cc_num  \\\n",
              "218302      218302   2020-09-07 00:28:46  3597926034019603   \n",
              "\n",
              "                    merchant     category     amt    first    last gender  \\\n",
              "218302  fraud_O'Keefe-Hudson  grocery_pos  258.85  Derrick  Flores      M   \n",
              "\n",
              "                               street  ...      lat     long  city_pop  \\\n",
              "218302  83690 Nicholas Ports Apt. 846  ...  35.2229 -89.5518      9496   \n",
              "\n",
              "                                   job         dob  \\\n",
              "218302  Furniture conservator/restorer  1993-03-23   \n",
              "\n",
              "                               trans_num   unix_time  merch_lat merch_long  \\\n",
              "218302  df8f431aec59a1c81f6c0ea942f665e7  1378513726  34.886426 -89.282649   \n",
              "\n",
              "        is_fraud  \n",
              "218302         1  \n",
              "\n",
              "[1 rows x 23 columns]"
            ]
          },
          "execution_count": 278,
          "metadata": {},
          "output_type": "execute_result"
        }
      ],
      "source": [
        "# Seleccionar una línea aleatoria del dataset fraudTest.csv\n",
        "random_line = pd.read_csv('../../../datasets/fraudTest.csv').sample(1)\n",
        "random_fraud = testDataRaw[testDataRaw['is_fraud'] == 1].sample(1)\n",
        "print(random_fraud.shape)\n",
        "random_fraud.head()"
      ]
    },
    {
      "cell_type": "code",
      "execution_count": 280,
      "metadata": {},
      "outputs": [
        {
          "name": "stdout",
          "output_type": "stream",
          "text": [
            "['personal_care' 'health_fitness' 'misc_pos' 'travel' 'kids_pets'\n",
            " 'shopping_pos' 'food_dining' 'home' 'entertainment' 'shopping_net'\n",
            " 'misc_net' 'grocery_pos' 'gas_transport' 'grocery_net']\n"
          ]
        }
      ],
      "source": [
        "categories = testDataRaw['category'].unique()\n",
        "print(categories)"
      ]
    },
    {
      "cell_type": "code",
      "execution_count": 281,
      "metadata": {},
      "outputs": [],
      "source": [
        "# Aplicar preprocesamiento\n",
        "columns_out = ['Unnamed: 0', 'cc_num', 'merchant', 'state', 'first', 'last', 'gender', 'street', 'city', 'zip', 'city', 'job', 'dob', 'trans_num', 'unix_time', 'is_fraud']\n",
        "random_fraud = random_fraud.drop(columns=columns_out)"
      ]
    },
    {
      "cell_type": "code",
      "execution_count": 282,
      "metadata": {},
      "outputs": [],
      "source": [
        "# Category encoding\n",
        "categories = ['personal_care', 'health_fitness', 'misc_pos', 'travel', 'kids_pets', 'shopping_pos', 'food_dining', 'home', 'entertainment', 'shopping_net', 'misc_net', 'grocery_pos', 'gas_transport', 'grocery_net']\n",
        "for category in categories:\n",
        "    random_fraud[f'cat_{category}'] = False"
      ]
    },
    {
      "cell_type": "code",
      "execution_count": 283,
      "metadata": {},
      "outputs": [
        {
          "data": {
            "text/html": [
              "<div>\n",
              "<style scoped>\n",
              "    .dataframe tbody tr th:only-of-type {\n",
              "        vertical-align: middle;\n",
              "    }\n",
              "\n",
              "    .dataframe tbody tr th {\n",
              "        vertical-align: top;\n",
              "    }\n",
              "\n",
              "    .dataframe thead th {\n",
              "        text-align: right;\n",
              "    }\n",
              "</style>\n",
              "<table border=\"1\" class=\"dataframe\">\n",
              "  <thead>\n",
              "    <tr style=\"text-align: right;\">\n",
              "      <th></th>\n",
              "      <th>trans_date_trans_time</th>\n",
              "      <th>category</th>\n",
              "      <th>amt</th>\n",
              "      <th>lat</th>\n",
              "      <th>long</th>\n",
              "      <th>city_pop</th>\n",
              "      <th>merch_lat</th>\n",
              "      <th>merch_long</th>\n",
              "      <th>cat_personal_care</th>\n",
              "      <th>cat_health_fitness</th>\n",
              "      <th>...</th>\n",
              "      <th>cat_kids_pets</th>\n",
              "      <th>cat_shopping_pos</th>\n",
              "      <th>cat_food_dining</th>\n",
              "      <th>cat_home</th>\n",
              "      <th>cat_entertainment</th>\n",
              "      <th>cat_shopping_net</th>\n",
              "      <th>cat_misc_net</th>\n",
              "      <th>cat_grocery_pos</th>\n",
              "      <th>cat_gas_transport</th>\n",
              "      <th>cat_grocery_net</th>\n",
              "    </tr>\n",
              "  </thead>\n",
              "  <tbody>\n",
              "    <tr>\n",
              "      <th>218302</th>\n",
              "      <td>2020-09-07 00:28:46</td>\n",
              "      <td>grocery_pos</td>\n",
              "      <td>258.85</td>\n",
              "      <td>35.2229</td>\n",
              "      <td>-89.5518</td>\n",
              "      <td>9496</td>\n",
              "      <td>34.886426</td>\n",
              "      <td>-89.282649</td>\n",
              "      <td>False</td>\n",
              "      <td>False</td>\n",
              "      <td>...</td>\n",
              "      <td>False</td>\n",
              "      <td>False</td>\n",
              "      <td>False</td>\n",
              "      <td>False</td>\n",
              "      <td>False</td>\n",
              "      <td>False</td>\n",
              "      <td>False</td>\n",
              "      <td>False</td>\n",
              "      <td>False</td>\n",
              "      <td>False</td>\n",
              "    </tr>\n",
              "  </tbody>\n",
              "</table>\n",
              "<p>1 rows × 22 columns</p>\n",
              "</div>"
            ],
            "text/plain": [
              "       trans_date_trans_time     category     amt      lat     long  city_pop  \\\n",
              "218302   2020-09-07 00:28:46  grocery_pos  258.85  35.2229 -89.5518      9496   \n",
              "\n",
              "        merch_lat  merch_long  cat_personal_care  cat_health_fitness  ...  \\\n",
              "218302  34.886426  -89.282649              False               False  ...   \n",
              "\n",
              "        cat_kids_pets  cat_shopping_pos  cat_food_dining  cat_home  \\\n",
              "218302          False             False            False     False   \n",
              "\n",
              "        cat_entertainment  cat_shopping_net  cat_misc_net  cat_grocery_pos  \\\n",
              "218302              False             False         False            False   \n",
              "\n",
              "        cat_gas_transport  cat_grocery_net  \n",
              "218302              False            False  \n",
              "\n",
              "[1 rows x 22 columns]"
            ]
          },
          "execution_count": 283,
          "metadata": {},
          "output_type": "execute_result"
        }
      ],
      "source": [
        "random_fraud.head()"
      ]
    },
    {
      "cell_type": "code",
      "execution_count": 284,
      "metadata": {},
      "outputs": [
        {
          "name": "stdout",
          "output_type": "stream",
          "text": [
            "cat_grocery_pos\n"
          ]
        }
      ],
      "source": [
        "index = random_fraud.index[0]   \n",
        "categ = random_fraud['category'][index]\n",
        "cat = 'cat_' + str(categ)\n",
        "print(cat)"
      ]
    },
    {
      "cell_type": "code",
      "execution_count": 285,
      "metadata": {},
      "outputs": [
        {
          "name": "stdout",
          "output_type": "stream",
          "text": [
            "Index(['trans_date_trans_time', 'category', 'amt', 'lat', 'long', 'city_pop',\n",
            "       'merch_lat', 'merch_long', 'cat_personal_care', 'cat_health_fitness',\n",
            "       'cat_misc_pos', 'cat_travel', 'cat_kids_pets', 'cat_shopping_pos',\n",
            "       'cat_food_dining', 'cat_home', 'cat_entertainment', 'cat_shopping_net',\n",
            "       'cat_misc_net', 'cat_grocery_pos', 'cat_gas_transport',\n",
            "       'cat_grocery_net'],\n",
            "      dtype='object')\n"
          ]
        }
      ],
      "source": [
        "print(random_fraud.columns)"
      ]
    },
    {
      "cell_type": "code",
      "execution_count": 286,
      "metadata": {},
      "outputs": [],
      "source": [
        "\n",
        "# Asegúrate de que la columna exista\n",
        "if cat not in random_fraud.columns:\n",
        "    random_fraud[cat] = False\n",
        "\n",
        "# Establecer la categoría a True\n",
        "random_fraud.at[index, cat] = True\n",
        "\n"
      ]
    },
    {
      "cell_type": "code",
      "execution_count": 287,
      "metadata": {},
      "outputs": [
        {
          "name": "stdout",
          "output_type": "stream",
          "text": [
            "       trans_date_trans_time     category     amt      lat     long  city_pop  \\\n",
            "218302   2020-09-07 00:28:46  grocery_pos  258.85  35.2229 -89.5518      9496   \n",
            "\n",
            "        merch_lat  merch_long  cat_personal_care  cat_health_fitness  ...  \\\n",
            "218302  34.886426  -89.282649              False               False  ...   \n",
            "\n",
            "        cat_kids_pets  cat_shopping_pos  cat_food_dining  cat_home  \\\n",
            "218302          False             False            False     False   \n",
            "\n",
            "        cat_entertainment  cat_shopping_net  cat_misc_net  cat_grocery_pos  \\\n",
            "218302              False             False         False             True   \n",
            "\n",
            "        cat_gas_transport  cat_grocery_net  \n",
            "218302              False            False  \n",
            "\n",
            "[1 rows x 22 columns]\n"
          ]
        }
      ],
      "source": [
        "print(random_fraud.head())"
      ]
    },
    {
      "cell_type": "code",
      "execution_count": 288,
      "metadata": {},
      "outputs": [],
      "source": [
        "# Date encoding\n",
        "random_fraud['hour'] = pd.to_datetime(random_fraud['trans_date_trans_time']).dt.hour\n",
        "random_fraud['day'] = pd.to_datetime(random_fraud['trans_date_trans_time']).dt.day_of_week\n",
        "random_fraud['month'] = pd.to_datetime(random_fraud['trans_date_trans_time']).dt.month\n",
        "random_fraud = random_fraud.drop(columns=['trans_date_trans_time'])\n",
        "random_fraud = random_fraud.drop(columns=['category'])"
      ]
    },
    {
      "cell_type": "code",
      "execution_count": 289,
      "metadata": {},
      "outputs": [
        {
          "data": {
            "text/html": [
              "<div>\n",
              "<style scoped>\n",
              "    .dataframe tbody tr th:only-of-type {\n",
              "        vertical-align: middle;\n",
              "    }\n",
              "\n",
              "    .dataframe tbody tr th {\n",
              "        vertical-align: top;\n",
              "    }\n",
              "\n",
              "    .dataframe thead th {\n",
              "        text-align: right;\n",
              "    }\n",
              "</style>\n",
              "<table border=\"1\" class=\"dataframe\">\n",
              "  <thead>\n",
              "    <tr style=\"text-align: right;\">\n",
              "      <th></th>\n",
              "      <th>amt</th>\n",
              "      <th>lat</th>\n",
              "      <th>long</th>\n",
              "      <th>city_pop</th>\n",
              "      <th>merch_lat</th>\n",
              "      <th>merch_long</th>\n",
              "      <th>cat_personal_care</th>\n",
              "      <th>cat_health_fitness</th>\n",
              "      <th>cat_misc_pos</th>\n",
              "      <th>cat_travel</th>\n",
              "      <th>...</th>\n",
              "      <th>cat_home</th>\n",
              "      <th>cat_entertainment</th>\n",
              "      <th>cat_shopping_net</th>\n",
              "      <th>cat_misc_net</th>\n",
              "      <th>cat_grocery_pos</th>\n",
              "      <th>cat_gas_transport</th>\n",
              "      <th>cat_grocery_net</th>\n",
              "      <th>hour</th>\n",
              "      <th>day</th>\n",
              "      <th>month</th>\n",
              "    </tr>\n",
              "  </thead>\n",
              "  <tbody>\n",
              "    <tr>\n",
              "      <th>218302</th>\n",
              "      <td>258.85</td>\n",
              "      <td>35.2229</td>\n",
              "      <td>-89.5518</td>\n",
              "      <td>9496</td>\n",
              "      <td>34.886426</td>\n",
              "      <td>-89.282649</td>\n",
              "      <td>False</td>\n",
              "      <td>False</td>\n",
              "      <td>False</td>\n",
              "      <td>False</td>\n",
              "      <td>...</td>\n",
              "      <td>False</td>\n",
              "      <td>False</td>\n",
              "      <td>False</td>\n",
              "      <td>False</td>\n",
              "      <td>True</td>\n",
              "      <td>False</td>\n",
              "      <td>False</td>\n",
              "      <td>0</td>\n",
              "      <td>0</td>\n",
              "      <td>9</td>\n",
              "    </tr>\n",
              "  </tbody>\n",
              "</table>\n",
              "<p>1 rows × 23 columns</p>\n",
              "</div>"
            ],
            "text/plain": [
              "           amt      lat     long  city_pop  merch_lat  merch_long  \\\n",
              "218302  258.85  35.2229 -89.5518      9496  34.886426  -89.282649   \n",
              "\n",
              "        cat_personal_care  cat_health_fitness  cat_misc_pos  cat_travel  ...  \\\n",
              "218302              False               False         False       False  ...   \n",
              "\n",
              "        cat_home  cat_entertainment  cat_shopping_net  cat_misc_net  \\\n",
              "218302     False              False             False         False   \n",
              "\n",
              "        cat_grocery_pos  cat_gas_transport  cat_grocery_net  hour  day  month  \n",
              "218302             True              False            False     0    0      9  \n",
              "\n",
              "[1 rows x 23 columns]"
            ]
          },
          "execution_count": 289,
          "metadata": {},
          "output_type": "execute_result"
        }
      ],
      "source": [
        "random_fraud.head()"
      ]
    },
    {
      "cell_type": "code",
      "execution_count": 291,
      "metadata": {},
      "outputs": [],
      "source": [
        "# Escalar los datos\n",
        "scaler = StandardScaler()\n",
        "random_line_scaled = scaler.fit_transform(random_fraud)"
      ]
    },
    {
      "cell_type": "code",
      "execution_count": 297,
      "metadata": {},
      "outputs": [
        {
          "name": "stdout",
          "output_type": "stream",
          "text": [
            "1/1 [==============================] - 0s 22ms/step\n",
            "Resultado de la predicción: [[False]]\n"
          ]
        }
      ],
      "source": [
        "# Realizar la predicción\n",
        "prediction = model.predict(random_line_scaled)\n",
        "prediction_result = (prediction > 0.5)\n",
        "\n",
        "print(\"Resultado de la predicción:\", prediction_result)\n"
      ]
    },
    {
      "cell_type": "markdown",
      "metadata": {},
      "source": [
        "# DATASET"
      ]
    },
    {
      "cell_type": "code",
      "execution_count": 298,
      "metadata": {},
      "outputs": [
        {
          "name": "stdout",
          "output_type": "stream",
          "text": [
            "(555719, 23)\n",
            "   Unnamed: 0 trans_date_trans_time            cc_num  \\\n",
            "0           0   2020-06-21 12:14:25  2291163933867244   \n",
            "1           1   2020-06-21 12:14:33  3573030041201292   \n",
            "2           2   2020-06-21 12:14:53  3598215285024754   \n",
            "3           3   2020-06-21 12:15:15  3591919803438423   \n",
            "4           4   2020-06-21 12:15:17  3526826139003047   \n",
            "\n",
            "                               merchant        category    amt   first  \\\n",
            "0                 fraud_Kirlin and Sons   personal_care   2.86    Jeff   \n",
            "1                  fraud_Sporer-Keebler   personal_care  29.84  Joanne   \n",
            "2  fraud_Swaniawski, Nitzsche and Welch  health_fitness  41.28  Ashley   \n",
            "3                     fraud_Haley Group        misc_pos  60.05   Brian   \n",
            "4                 fraud_Johnston-Casper          travel   3.19  Nathan   \n",
            "\n",
            "       last gender                       street  ...      lat      long  \\\n",
            "0   Elliott      M            351 Darlene Green  ...  33.9659  -80.9355   \n",
            "1  Williams      F             3638 Marsh Union  ...  40.3207 -110.4360   \n",
            "2     Lopez      F         9333 Valentine Point  ...  40.6729  -73.5365   \n",
            "3  Williams      M  32941 Krystal Mill Apt. 552  ...  28.5697  -80.8191   \n",
            "4    Massey      M     5783 Evan Roads Apt. 465  ...  44.2529  -85.0170   \n",
            "\n",
            "   city_pop                     job         dob  \\\n",
            "0    333497     Mechanical engineer  1968-03-19   \n",
            "1       302  Sales professional, IT  1990-01-17   \n",
            "2     34496       Librarian, public  1970-10-21   \n",
            "3     54767            Set designer  1987-07-25   \n",
            "4      1126      Furniture designer  1955-07-06   \n",
            "\n",
            "                          trans_num   unix_time  merch_lat  merch_long  \\\n",
            "0  2da90c7d74bd46a0caf3777415b3ebd3  1371816865  33.986391  -81.200714   \n",
            "1  324cc204407e99f51b0d6ca0055005e7  1371816873  39.450498 -109.960431   \n",
            "2  c81755dbbbea9d5c77f094348a7579be  1371816893  40.495810  -74.196111   \n",
            "3  2159175b9efe66dc301f149d3d5abf8c  1371816915  28.812398  -80.883061   \n",
            "4  57ff021bd3f328f8738bb535c302a31b  1371816917  44.959148  -85.884734   \n",
            "\n",
            "   is_fraud  \n",
            "0         0  \n",
            "1         0  \n",
            "2         0  \n",
            "3         0  \n",
            "4         0  \n",
            "\n",
            "[5 rows x 23 columns]\n"
          ]
        }
      ],
      "source": [
        "# test\n",
        "testDataRaw = pd.read_csv('../../../datasets/fraudTest.csv')\n",
        "print(testDataRaw.shape)\n",
        "print(testDataRaw.head())"
      ]
    },
    {
      "cell_type": "code",
      "execution_count": 299,
      "metadata": {},
      "outputs": [],
      "source": [
        "columns_out = ['Unnamed: 0', 'cc_num', 'merchant', 'state', 'first', 'last', 'gender', 'street', 'city', 'zip', 'city', 'job', 'dob', 'trans_num', 'unix_time']\n",
        "fraud_data = testDataRaw.drop(columns=columns_out)\n",
        "\n",
        "# Category encoding\n",
        "fraud_data = pd.get_dummies(fraud_data, columns=['category'], prefix='cat')\n",
        "\n",
        "# Date encoding\n",
        "fraud_data['hour'] = pd.to_datetime(fraud_data['trans_date_trans_time']).dt.hour\n",
        "fraud_data['day'] = pd.to_datetime(fraud_data['trans_date_trans_time']).dt.day_of_week\n",
        "fraud_data['month'] = pd.to_datetime(fraud_data['trans_date_trans_time']).dt.month\n",
        "fraud_data = fraud_data.drop(columns=['trans_date_trans_time'])\n"
      ]
    },
    {
      "cell_type": "code",
      "execution_count": 303,
      "metadata": {},
      "outputs": [
        {
          "data": {
            "text/html": [
              "<div>\n",
              "<style scoped>\n",
              "    .dataframe tbody tr th:only-of-type {\n",
              "        vertical-align: middle;\n",
              "    }\n",
              "\n",
              "    .dataframe tbody tr th {\n",
              "        vertical-align: top;\n",
              "    }\n",
              "\n",
              "    .dataframe thead th {\n",
              "        text-align: right;\n",
              "    }\n",
              "</style>\n",
              "<table border=\"1\" class=\"dataframe\">\n",
              "  <thead>\n",
              "    <tr style=\"text-align: right;\">\n",
              "      <th></th>\n",
              "      <th>amt</th>\n",
              "      <th>lat</th>\n",
              "      <th>long</th>\n",
              "      <th>city_pop</th>\n",
              "      <th>merch_lat</th>\n",
              "      <th>merch_long</th>\n",
              "      <th>is_fraud</th>\n",
              "      <th>cat_entertainment</th>\n",
              "      <th>cat_food_dining</th>\n",
              "      <th>cat_gas_transport</th>\n",
              "      <th>...</th>\n",
              "      <th>cat_kids_pets</th>\n",
              "      <th>cat_misc_net</th>\n",
              "      <th>cat_misc_pos</th>\n",
              "      <th>cat_personal_care</th>\n",
              "      <th>cat_shopping_net</th>\n",
              "      <th>cat_shopping_pos</th>\n",
              "      <th>cat_travel</th>\n",
              "      <th>hour</th>\n",
              "      <th>day</th>\n",
              "      <th>month</th>\n",
              "    </tr>\n",
              "  </thead>\n",
              "  <tbody>\n",
              "    <tr>\n",
              "      <th>0</th>\n",
              "      <td>2.86</td>\n",
              "      <td>33.9659</td>\n",
              "      <td>-80.9355</td>\n",
              "      <td>333497</td>\n",
              "      <td>33.986391</td>\n",
              "      <td>-81.200714</td>\n",
              "      <td>0</td>\n",
              "      <td>False</td>\n",
              "      <td>False</td>\n",
              "      <td>False</td>\n",
              "      <td>...</td>\n",
              "      <td>False</td>\n",
              "      <td>False</td>\n",
              "      <td>False</td>\n",
              "      <td>True</td>\n",
              "      <td>False</td>\n",
              "      <td>False</td>\n",
              "      <td>False</td>\n",
              "      <td>12</td>\n",
              "      <td>6</td>\n",
              "      <td>6</td>\n",
              "    </tr>\n",
              "    <tr>\n",
              "      <th>1</th>\n",
              "      <td>29.84</td>\n",
              "      <td>40.3207</td>\n",
              "      <td>-110.4360</td>\n",
              "      <td>302</td>\n",
              "      <td>39.450498</td>\n",
              "      <td>-109.960431</td>\n",
              "      <td>0</td>\n",
              "      <td>False</td>\n",
              "      <td>False</td>\n",
              "      <td>False</td>\n",
              "      <td>...</td>\n",
              "      <td>False</td>\n",
              "      <td>False</td>\n",
              "      <td>False</td>\n",
              "      <td>True</td>\n",
              "      <td>False</td>\n",
              "      <td>False</td>\n",
              "      <td>False</td>\n",
              "      <td>12</td>\n",
              "      <td>6</td>\n",
              "      <td>6</td>\n",
              "    </tr>\n",
              "    <tr>\n",
              "      <th>2</th>\n",
              "      <td>41.28</td>\n",
              "      <td>40.6729</td>\n",
              "      <td>-73.5365</td>\n",
              "      <td>34496</td>\n",
              "      <td>40.495810</td>\n",
              "      <td>-74.196111</td>\n",
              "      <td>0</td>\n",
              "      <td>False</td>\n",
              "      <td>False</td>\n",
              "      <td>False</td>\n",
              "      <td>...</td>\n",
              "      <td>False</td>\n",
              "      <td>False</td>\n",
              "      <td>False</td>\n",
              "      <td>False</td>\n",
              "      <td>False</td>\n",
              "      <td>False</td>\n",
              "      <td>False</td>\n",
              "      <td>12</td>\n",
              "      <td>6</td>\n",
              "      <td>6</td>\n",
              "    </tr>\n",
              "    <tr>\n",
              "      <th>3</th>\n",
              "      <td>60.05</td>\n",
              "      <td>28.5697</td>\n",
              "      <td>-80.8191</td>\n",
              "      <td>54767</td>\n",
              "      <td>28.812398</td>\n",
              "      <td>-80.883061</td>\n",
              "      <td>0</td>\n",
              "      <td>False</td>\n",
              "      <td>False</td>\n",
              "      <td>False</td>\n",
              "      <td>...</td>\n",
              "      <td>False</td>\n",
              "      <td>False</td>\n",
              "      <td>True</td>\n",
              "      <td>False</td>\n",
              "      <td>False</td>\n",
              "      <td>False</td>\n",
              "      <td>False</td>\n",
              "      <td>12</td>\n",
              "      <td>6</td>\n",
              "      <td>6</td>\n",
              "    </tr>\n",
              "    <tr>\n",
              "      <th>4</th>\n",
              "      <td>3.19</td>\n",
              "      <td>44.2529</td>\n",
              "      <td>-85.0170</td>\n",
              "      <td>1126</td>\n",
              "      <td>44.959148</td>\n",
              "      <td>-85.884734</td>\n",
              "      <td>0</td>\n",
              "      <td>False</td>\n",
              "      <td>False</td>\n",
              "      <td>False</td>\n",
              "      <td>...</td>\n",
              "      <td>False</td>\n",
              "      <td>False</td>\n",
              "      <td>False</td>\n",
              "      <td>False</td>\n",
              "      <td>False</td>\n",
              "      <td>False</td>\n",
              "      <td>True</td>\n",
              "      <td>12</td>\n",
              "      <td>6</td>\n",
              "      <td>6</td>\n",
              "    </tr>\n",
              "  </tbody>\n",
              "</table>\n",
              "<p>5 rows × 24 columns</p>\n",
              "</div>"
            ],
            "text/plain": [
              "     amt      lat      long  city_pop  merch_lat  merch_long  is_fraud  \\\n",
              "0   2.86  33.9659  -80.9355    333497  33.986391  -81.200714         0   \n",
              "1  29.84  40.3207 -110.4360       302  39.450498 -109.960431         0   \n",
              "2  41.28  40.6729  -73.5365     34496  40.495810  -74.196111         0   \n",
              "3  60.05  28.5697  -80.8191     54767  28.812398  -80.883061         0   \n",
              "4   3.19  44.2529  -85.0170      1126  44.959148  -85.884734         0   \n",
              "\n",
              "   cat_entertainment  cat_food_dining  cat_gas_transport  ...  cat_kids_pets  \\\n",
              "0              False            False              False  ...          False   \n",
              "1              False            False              False  ...          False   \n",
              "2              False            False              False  ...          False   \n",
              "3              False            False              False  ...          False   \n",
              "4              False            False              False  ...          False   \n",
              "\n",
              "   cat_misc_net  cat_misc_pos  cat_personal_care  cat_shopping_net  \\\n",
              "0         False         False               True             False   \n",
              "1         False         False               True             False   \n",
              "2         False         False              False             False   \n",
              "3         False          True              False             False   \n",
              "4         False         False              False             False   \n",
              "\n",
              "   cat_shopping_pos  cat_travel  hour  day  month  \n",
              "0             False       False    12    6      6  \n",
              "1             False       False    12    6      6  \n",
              "2             False       False    12    6      6  \n",
              "3             False       False    12    6      6  \n",
              "4             False        True    12    6      6  \n",
              "\n",
              "[5 rows x 24 columns]"
            ]
          },
          "execution_count": 303,
          "metadata": {},
          "output_type": "execute_result"
        }
      ],
      "source": [
        "fraud_data.head()"
      ]
    },
    {
      "cell_type": "code",
      "execution_count": 304,
      "metadata": {},
      "outputs": [],
      "source": [
        "fraud_data = fraud_data.drop(columns=['is_fraud'])"
      ]
    },
    {
      "cell_type": "code",
      "execution_count": 305,
      "metadata": {},
      "outputs": [],
      "source": [
        "loaded_model = tf.keras.models.load_model(\"detectorV6.h5\")"
      ]
    },
    {
      "cell_type": "code",
      "execution_count": 306,
      "metadata": {},
      "outputs": [],
      "source": [
        "scaler = StandardScaler()\n",
        "fraud_data_scaled = scaler.fit_transform(fraud_data)"
      ]
    },
    {
      "cell_type": "code",
      "execution_count": 309,
      "metadata": {},
      "outputs": [],
      "source": [
        "testData = testDataRaw.drop(columns=columns_out)"
      ]
    },
    {
      "cell_type": "code",
      "execution_count": 316,
      "metadata": {},
      "outputs": [
        {
          "name": "stdout",
          "output_type": "stream",
          "text": [
            "17367/17367 [==============================] - 17s 960us/step\n"
          ]
        }
      ],
      "source": [
        "# Realizar la predicción\n",
        "predictions = loaded_model.predict(fraud_data_scaled)\n",
        "predictions = (predictions > 0.5)  # Convertir a True/False\n"
      ]
    },
    {
      "cell_type": "code",
      "execution_count": 318,
      "metadata": {},
      "outputs": [
        {
          "name": "stdout",
          "output_type": "stream",
          "text": [
            "        is_fraud  prediction\n",
            "0              0           0\n",
            "1              0           0\n",
            "2              0           0\n",
            "3              0           0\n",
            "4              0           0\n",
            "...          ...         ...\n",
            "555714         0           0\n",
            "555715         0           0\n",
            "555716         0           0\n",
            "555717         0           0\n",
            "555718         0           0\n",
            "\n",
            "[555719 rows x 2 columns]\n"
          ]
        }
      ],
      "source": [
        "# Agregar las predicciones al DataFrame\n",
        "testData['prediction'] = predictions.astype(int)\n",
        "\n",
        "# Visualizar el DataFrame con las predicciones\n",
        "print(testData[['is_fraud', 'prediction']])"
      ]
    },
    {
      "cell_type": "code",
      "execution_count": 320,
      "metadata": {},
      "outputs": [
        {
          "name": "stdout",
          "output_type": "stream",
          "text": [
            "       trans_date_trans_time        category      amt      lat      long  \\\n",
            "1685     2020-06-21 22:06:39  health_fitness    24.84  31.8599 -102.7413   \n",
            "1767     2020-06-21 22:32:22        misc_net   780.52  42.5545  -90.3508   \n",
            "1781     2020-06-21 22:37:27   entertainment   620.33  42.5545  -90.3508   \n",
            "1784     2020-06-21 22:38:55    shopping_net  1077.69  30.4590  -90.9027   \n",
            "1857     2020-06-21 23:02:16    shopping_pos   842.65  31.8599 -102.7413   \n",
            "...                      ...             ...      ...      ...       ...   \n",
            "517197   2020-12-22 22:05:48    shopping_pos  1041.51  34.6323  -89.8855   \n",
            "517274   2020-12-22 22:18:07    shopping_pos   868.09  34.6323  -89.8855   \n",
            "517341   2020-12-22 22:31:48    shopping_net  1039.42  34.6323  -89.8855   \n",
            "517529   2020-12-22 23:06:03     grocery_pos   289.27  34.6323  -89.8855   \n",
            "517571   2020-12-22 23:13:39        misc_net   766.38  34.6323  -89.8855   \n",
            "\n",
            "        city_pop  merch_lat  merch_long  is_fraud  prediction  \n",
            "1685          23  32.575873 -102.604290         1           0  \n",
            "1767        1306  42.461127  -91.147148         1           1  \n",
            "1781        1306  42.771834  -90.158365         1           0  \n",
            "1784       71335  31.204974  -90.261595         1           1  \n",
            "1857          23  31.315782 -102.736390         1           1  \n",
            "...          ...        ...         ...       ...         ...  \n",
            "517197     14462  34.573471  -89.911011         1           0  \n",
            "517274     14462  34.091227  -90.390612         1           0  \n",
            "517341     14462  34.628434  -90.284780         1           1  \n",
            "517529     14462  34.746063  -90.401093         1           1  \n",
            "517571     14462  33.771462  -90.651342         1           1  \n",
            "\n",
            "[2145 rows x 10 columns]\n"
          ]
        }
      ],
      "source": [
        "only_fraud_rows = testData[(testData['is_fraud'] == 1)]\n",
        "print(only_fraud_rows)"
      ]
    },
    {
      "cell_type": "code",
      "execution_count": 319,
      "metadata": {},
      "outputs": [
        {
          "name": "stdout",
          "output_type": "stream",
          "text": [
            "Filas donde is_fraud y prediction son iguales a 1:\n",
            "       trans_date_trans_time      category      amt      lat      long  \\\n",
            "1767     2020-06-21 22:32:22      misc_net   780.52  42.5545  -90.3508   \n",
            "1784     2020-06-21 22:38:55  shopping_net  1077.69  30.4590  -90.9027   \n",
            "1857     2020-06-21 23:02:16  shopping_pos   842.65  31.8599 -102.7413   \n",
            "1906     2020-06-21 23:21:44  shopping_net  1128.26  30.4590  -90.9027   \n",
            "1956     2020-06-21 23:35:27  shopping_net   931.82  30.4590  -90.9027   \n",
            "...                      ...           ...      ...      ...       ...   \n",
            "511675   2020-12-21 23:57:16  shopping_net   981.22  34.6323  -89.8855   \n",
            "514913   2020-12-22 14:30:10  shopping_net   997.77  34.6323  -89.8855   \n",
            "517341   2020-12-22 22:31:48  shopping_net  1039.42  34.6323  -89.8855   \n",
            "517529   2020-12-22 23:06:03   grocery_pos   289.27  34.6323  -89.8855   \n",
            "517571   2020-12-22 23:13:39      misc_net   766.38  34.6323  -89.8855   \n",
            "\n",
            "        city_pop  merch_lat  merch_long  is_fraud  prediction  \n",
            "1767        1306  42.461127  -91.147148         1           1  \n",
            "1784       71335  31.204974  -90.261595         1           1  \n",
            "1857          23  31.315782 -102.736390         1           1  \n",
            "1906       71335  30.354797  -91.146131         1           1  \n",
            "1956       71335  30.761363  -91.713600         1           1  \n",
            "...          ...        ...         ...       ...         ...  \n",
            "511675     14462  34.526886  -88.975344         1           1  \n",
            "514913     14462  35.112482  -90.417066         1           1  \n",
            "517341     14462  34.628434  -90.284780         1           1  \n",
            "517529     14462  34.746063  -90.401093         1           1  \n",
            "517571     14462  33.771462  -90.651342         1           1  \n",
            "\n",
            "[1436 rows x 10 columns]\n"
          ]
        }
      ],
      "source": [
        "fraud_rows = testData[(testData['is_fraud'] == 1) & (testData['prediction'] == 1)]\n",
        "print(\"Filas donde is_fraud y prediction son iguales a 1:\")\n",
        "print(fraud_rows)"
      ]
    }
  ],
  "metadata": {
    "colab": {
      "provenance": []
    },
    "kernelspec": {
      "display_name": "Python 3",
      "language": "python",
      "name": "python3"
    },
    "language_info": {
      "codemirror_mode": {
        "name": "ipython",
        "version": 3
      },
      "file_extension": ".py",
      "mimetype": "text/x-python",
      "name": "python",
      "nbconvert_exporter": "python",
      "pygments_lexer": "ipython3",
      "version": "3.11.5"
    }
  },
  "nbformat": 4,
  "nbformat_minor": 0
}
