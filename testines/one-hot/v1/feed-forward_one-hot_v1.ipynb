{
 "cells": [
  {
   "cell_type": "code",
   "execution_count": 4,
   "metadata": {},
   "outputs": [],
   "source": [
    "import numpy as np\n",
    "import pandas as pd\n",
    "import tensorflow as tf\n",
    "from sklearn.model_selection import train_test_split\n",
    "from sklearn.preprocessing import StandardScaler\n",
    "from sklearn.metrics import confusion_matrix, classification_report, accuracy_score, precision_score, recall_score, f1_score"
   ]
  },
  {
   "cell_type": "markdown",
   "metadata": {},
   "source": [
    "## Creating and training model"
   ]
  },
  {
   "cell_type": "code",
   "execution_count": 40,
   "metadata": {},
   "outputs": [
    {
     "name": "stdout",
     "output_type": "stream",
     "text": [
      "(1296675, 23)\n",
      "   Unnamed: 0 trans_date_trans_time            cc_num  \\\n",
      "0           0   2019-01-01 00:00:18  2703186189652095   \n",
      "1           1   2019-01-01 00:00:44      630423337322   \n",
      "2           2   2019-01-01 00:00:51    38859492057661   \n",
      "3           3   2019-01-01 00:01:16  3534093764340240   \n",
      "4           4   2019-01-01 00:03:06   375534208663984   \n",
      "\n",
      "                             merchant       category     amt      first  \\\n",
      "0          fraud_Rippin, Kub and Mann       misc_net    4.97   Jennifer   \n",
      "1     fraud_Heller, Gutmann and Zieme    grocery_pos  107.23  Stephanie   \n",
      "2                fraud_Lind-Buckridge  entertainment  220.11     Edward   \n",
      "3  fraud_Kutch, Hermiston and Farrell  gas_transport   45.00     Jeremy   \n",
      "4                 fraud_Keeling-Crist       misc_pos   41.96      Tyler   \n",
      "\n",
      "      last gender                        street  ...      lat      long  \\\n",
      "0    Banks      F                561 Perry Cove  ...  36.0788  -81.1781   \n",
      "1     Gill      F  43039 Riley Greens Suite 393  ...  48.8878 -118.2105   \n",
      "2  Sanchez      M      594 White Dale Suite 530  ...  42.1808 -112.2620   \n",
      "3    White      M   9443 Cynthia Court Apt. 038  ...  46.2306 -112.1138   \n",
      "4   Garcia      M              408 Bradley Rest  ...  38.4207  -79.4629   \n",
      "\n",
      "   city_pop                                job         dob  \\\n",
      "0      3495          Psychologist, counselling  1988-03-09   \n",
      "1       149  Special educational needs teacher  1978-06-21   \n",
      "2      4154        Nature conservation officer  1962-01-19   \n",
      "3      1939                    Patent attorney  1967-01-12   \n",
      "4        99     Dance movement psychotherapist  1986-03-28   \n",
      "\n",
      "                          trans_num   unix_time  merch_lat  merch_long  \\\n",
      "0  0b242abb623afc578575680df30655b9  1325376018  36.011293  -82.048315   \n",
      "1  1f76529f8574734946361c461b024d99  1325376044  49.159047 -118.186462   \n",
      "2  a1a22d70485983eac12b5b88dad1cf95  1325376051  43.150704 -112.154481   \n",
      "3  6b849c168bdad6f867558c3793159a81  1325376076  47.034331 -112.561071   \n",
      "4  a41d7549acf90789359a9aa5346dcb46  1325376186  38.674999  -78.632459   \n",
      "\n",
      "   is_fraud  \n",
      "0         0  \n",
      "1         0  \n",
      "2         0  \n",
      "3         0  \n",
      "4         0  \n",
      "\n",
      "[5 rows x 23 columns]\n"
     ]
    }
   ],
   "source": [
    "# Load your dataset\n",
    "data = pd.read_csv('../../../datasets/fraudTrain.csv')\n",
    "print(data.shape)\n",
    "print(data.head())"
   ]
  },
  {
   "cell_type": "code",
   "execution_count": 4,
   "metadata": {},
   "outputs": [],
   "source": [
    "# Select relevant features and labels\n",
    "\n",
    "columns_out = ['trans_date_trans_time', 'cc_num', 'merchant', 'first', 'last', 'gender', 'street', 'city', 'state', 'zip', 'city', 'job', 'dob', 'trans_num', 'unix_time']\n",
    "data = data.drop(columns=columns_out)\n",
    "\n",
    "X = data[['category', 'amt', 'city_pop', 'lat', 'long', 'merch_lat', 'merch_long']]\n",
    "X = pd.get_dummies(data, columns=['category'], prefix=['cat']) # one-hot encoding para 'category'\n",
    "y = data['is_fraud']"
   ]
  },
  {
   "cell_type": "code",
   "execution_count": 5,
   "metadata": {},
   "outputs": [
    {
     "name": "stdout",
     "output_type": "stream",
     "text": [
      "1296675\n",
      "1296675\n"
     ]
    }
   ],
   "source": [
    "print(len(data))\n",
    "print(len(X))"
   ]
  },
  {
   "cell_type": "code",
   "execution_count": 42,
   "metadata": {},
   "outputs": [
    {
     "name": "stdout",
     "output_type": "stream",
     "text": [
      "(1296675, 22)\n",
      "   Unnamed: 0     amt      lat      long  city_pop  merch_lat  merch_long  \\\n",
      "0           0    4.97  36.0788  -81.1781      3495  36.011293  -82.048315   \n",
      "1           1  107.23  48.8878 -118.2105       149  49.159047 -118.186462   \n",
      "2           2  220.11  42.1808 -112.2620      4154  43.150704 -112.154481   \n",
      "3           3   45.00  46.2306 -112.1138      1939  47.034331 -112.561071   \n",
      "4           4   41.96  38.4207  -79.4629        99  38.674999  -78.632459   \n",
      "\n",
      "   is_fraud  cat_entertainment  cat_food_dining  ...  cat_grocery_pos  \\\n",
      "0         0              False            False  ...            False   \n",
      "1         0              False            False  ...             True   \n",
      "2         0               True            False  ...            False   \n",
      "3         0              False            False  ...            False   \n",
      "4         0              False            False  ...            False   \n",
      "\n",
      "   cat_health_fitness  cat_home  cat_kids_pets  cat_misc_net  cat_misc_pos  \\\n",
      "0               False     False          False          True         False   \n",
      "1               False     False          False         False         False   \n",
      "2               False     False          False         False         False   \n",
      "3               False     False          False         False         False   \n",
      "4               False     False          False         False          True   \n",
      "\n",
      "   cat_personal_care  cat_shopping_net  cat_shopping_pos  cat_travel  \n",
      "0              False             False             False       False  \n",
      "1              False             False             False       False  \n",
      "2              False             False             False       False  \n",
      "3              False             False             False       False  \n",
      "4              False             False             False       False  \n",
      "\n",
      "[5 rows x 22 columns]\n"
     ]
    }
   ],
   "source": [
    "#print(X.head())\n",
    "print(X.shape)\n",
    "print(X.head())"
   ]
  },
  {
   "cell_type": "code",
   "execution_count": 7,
   "metadata": {},
   "outputs": [],
   "source": [
    "# Split the data into training and testing sets\n",
    "X_train, X_raw_test, y_train, y_raw_test = train_test_split(X, y, test_size=0.2, random_state=42)\n",
    "\n",
    "# Standardize the features to have zero mean and unit variance\n",
    "scaler = StandardScaler()\n",
    "X_train = scaler.fit_transform(X_train)\n",
    "X_raw_test = scaler.transform(X_raw_test)"
   ]
  },
  {
   "cell_type": "code",
   "execution_count": 8,
   "metadata": {},
   "outputs": [],
   "source": [
    "# Create a simple feed-forward neural network model\n",
    "model = tf.keras.Sequential([\n",
    "    tf.keras.layers.Dense(units=16, activation='relu', input_dim=X_train.shape[1]),\n",
    "    tf.keras.layers.Dense(units=8, activation='relu'),\n",
    "    tf.keras.layers.Dense(units=1, activation='sigmoid')\n",
    "])"
   ]
  },
  {
   "cell_type": "code",
   "execution_count": 9,
   "metadata": {},
   "outputs": [
    {
     "name": "stdout",
     "output_type": "stream",
     "text": [
      "Model: \"sequential\"\n",
      "_________________________________________________________________\n",
      " Layer (type)                Output Shape              Param #   \n",
      "=================================================================\n",
      " dense (Dense)               (None, 16)                368       \n",
      "                                                                 \n",
      " dense_1 (Dense)             (None, 8)                 136       \n",
      "                                                                 \n",
      " dense_2 (Dense)             (None, 1)                 9         \n",
      "                                                                 \n",
      "=================================================================\n",
      "Total params: 513 (2.00 KB)\n",
      "Trainable params: 513 (2.00 KB)\n",
      "Non-trainable params: 0 (0.00 Byte)\n",
      "_________________________________________________________________\n"
     ]
    }
   ],
   "source": [
    "# Compile the model\n",
    "model.compile(optimizer='adam', loss='binary_crossentropy', metrics=['accuracy'])\n",
    "model.summary()"
   ]
  },
  {
   "cell_type": "code",
   "execution_count": 10,
   "metadata": {},
   "outputs": [
    {
     "name": "stdout",
     "output_type": "stream",
     "text": [
      "Epoch 1/10\n",
      "32417/32417 [==============================] - 53s 2ms/step - loss: 0.0014 - accuracy: 0.9999 - val_loss: 9.6969e-11 - val_accuracy: 1.0000\n",
      "Epoch 2/10\n",
      "32417/32417 [==============================] - 52s 2ms/step - loss: 4.5377e-11 - accuracy: 1.0000 - val_loss: 2.7782e-11 - val_accuracy: 1.0000\n",
      "Epoch 3/10\n",
      "32417/32417 [==============================] - 54s 2ms/step - loss: 2.2106e-11 - accuracy: 1.0000 - val_loss: 1.8803e-11 - val_accuracy: 1.0000\n",
      "Epoch 4/10\n",
      "32417/32417 [==============================] - 51s 2ms/step - loss: 1.6768e-11 - accuracy: 1.0000 - val_loss: 1.5124e-11 - val_accuracy: 1.0000\n",
      "Epoch 5/10\n",
      "32417/32417 [==============================] - 49s 2ms/step - loss: 1.4038e-11 - accuracy: 1.0000 - val_loss: 1.3130e-11 - val_accuracy: 1.0000\n",
      "Epoch 6/10\n",
      "32417/32417 [==============================] - 50s 2ms/step - loss: 1.2617e-11 - accuracy: 1.0000 - val_loss: 1.1938e-11 - val_accuracy: 1.0000\n",
      "Epoch 7/10\n",
      "32417/32417 [==============================] - 49s 2ms/step - loss: 1.1659e-11 - accuracy: 1.0000 - val_loss: 1.1161e-11 - val_accuracy: 1.0000\n",
      "Epoch 8/10\n",
      "32417/32417 [==============================] - 46s 1ms/step - loss: 1.0763e-11 - accuracy: 1.0000 - val_loss: 1.0508e-11 - val_accuracy: 1.0000\n",
      "Epoch 9/10\n",
      "32417/32417 [==============================] - 51s 2ms/step - loss: 1.0245e-11 - accuracy: 1.0000 - val_loss: 9.9209e-12 - val_accuracy: 1.0000\n",
      "Epoch 10/10\n",
      "32417/32417 [==============================] - 49s 2ms/step - loss: 9.7061e-12 - accuracy: 1.0000 - val_loss: 9.3827e-12 - val_accuracy: 1.0000\n"
     ]
    },
    {
     "name": "stderr",
     "output_type": "stream",
     "text": [
      "c:\\Users\\U S U A R I O\\AppData\\Local\\Programs\\Python\\Python311\\Lib\\site-packages\\keras\\src\\engine\\training.py:3079: UserWarning: You are saving your model as an HDF5 file via `model.save()`. This file format is considered legacy. We recommend using instead the native Keras format, e.g. `model.save('my_model.keras')`.\n",
      "  saving_api.save_model(\n"
     ]
    }
   ],
   "source": [
    "# Train the model\n",
    "model.fit(X_train, y_train, epochs=10, batch_size=32, validation_data=(X_raw_test, y_raw_test))\n",
    "model.save('detector.h5')"
   ]
  },
  {
   "cell_type": "code",
   "execution_count": 11,
   "metadata": {},
   "outputs": [
    {
     "name": "stdout",
     "output_type": "stream",
     "text": [
      "8105/8105 [==============================] - 7s 878us/step\n"
     ]
    }
   ],
   "source": [
    "# Evaluate the model\n",
    "y_pred = model.predict(X_raw_test)\n",
    "y_pred = (y_pred > 0.5)  # Convert probabilities to binary predictions - if prob > 0.5 is fraud and vice versa"
   ]
  },
  {
   "cell_type": "code",
   "execution_count": 12,
   "metadata": {},
   "outputs": [
    {
     "name": "stdout",
     "output_type": "stream",
     "text": [
      "Confusion Matrix:\n",
      "[[257815      0]\n",
      " [     0   1520]]\n"
     ]
    }
   ],
   "source": [
    "# Calculate confusion matrix and classification report\n",
    "confusion = confusion_matrix(y_raw_test, y_pred)\n",
    "print(\"Confusion Matrix:\")\n",
    "print(confusion)"
   ]
  },
  {
   "cell_type": "code",
   "execution_count": 13,
   "metadata": {},
   "outputs": [
    {
     "name": "stdout",
     "output_type": "stream",
     "text": [
      "Classification Report:\n",
      "              precision    recall  f1-score   support\n",
      "\n",
      "           0       1.00      1.00      1.00    257815\n",
      "           1       1.00      1.00      1.00      1520\n",
      "\n",
      "    accuracy                           1.00    259335\n",
      "   macro avg       1.00      1.00      1.00    259335\n",
      "weighted avg       1.00      1.00      1.00    259335\n",
      "\n"
     ]
    }
   ],
   "source": [
    "report = classification_report(y_raw_test, y_pred)\n",
    "print(\"Classification Report:\")\n",
    "print(report)"
   ]
  },
  {
   "cell_type": "markdown",
   "metadata": {},
   "source": [
    "## COMPROBACION DEL MODELO "
   ]
  },
  {
   "cell_type": "code",
   "execution_count": 231,
   "metadata": {},
   "outputs": [
    {
     "name": "stdout",
     "output_type": "stream",
     "text": [
      "(555719, 23)\n"
     ]
    }
   ],
   "source": [
    "test_data = pd.read_csv('../../../datasets/fraudTest.csv')\n",
    "print(test_data.shape)"
   ]
  },
  {
   "cell_type": "code",
   "execution_count": 232,
   "metadata": {},
   "outputs": [
    {
     "data": {
      "text/html": [
       "<div>\n",
       "<style scoped>\n",
       "    .dataframe tbody tr th:only-of-type {\n",
       "        vertical-align: middle;\n",
       "    }\n",
       "\n",
       "    .dataframe tbody tr th {\n",
       "        vertical-align: top;\n",
       "    }\n",
       "\n",
       "    .dataframe thead th {\n",
       "        text-align: right;\n",
       "    }\n",
       "</style>\n",
       "<table border=\"1\" class=\"dataframe\">\n",
       "  <thead>\n",
       "    <tr style=\"text-align: right;\">\n",
       "      <th></th>\n",
       "      <th>Unnamed: 0</th>\n",
       "      <th>trans_date_trans_time</th>\n",
       "      <th>cc_num</th>\n",
       "      <th>merchant</th>\n",
       "      <th>category</th>\n",
       "      <th>amt</th>\n",
       "      <th>first</th>\n",
       "      <th>last</th>\n",
       "      <th>gender</th>\n",
       "      <th>street</th>\n",
       "      <th>...</th>\n",
       "      <th>lat</th>\n",
       "      <th>long</th>\n",
       "      <th>city_pop</th>\n",
       "      <th>job</th>\n",
       "      <th>dob</th>\n",
       "      <th>trans_num</th>\n",
       "      <th>unix_time</th>\n",
       "      <th>merch_lat</th>\n",
       "      <th>merch_long</th>\n",
       "      <th>is_fraud</th>\n",
       "    </tr>\n",
       "  </thead>\n",
       "  <tbody>\n",
       "    <tr>\n",
       "      <th>0</th>\n",
       "      <td>0</td>\n",
       "      <td>2020-06-21 12:14:25</td>\n",
       "      <td>2291163933867244</td>\n",
       "      <td>fraud_Kirlin and Sons</td>\n",
       "      <td>personal_care</td>\n",
       "      <td>2.86</td>\n",
       "      <td>Jeff</td>\n",
       "      <td>Elliott</td>\n",
       "      <td>M</td>\n",
       "      <td>351 Darlene Green</td>\n",
       "      <td>...</td>\n",
       "      <td>33.9659</td>\n",
       "      <td>-80.9355</td>\n",
       "      <td>333497</td>\n",
       "      <td>Mechanical engineer</td>\n",
       "      <td>1968-03-19</td>\n",
       "      <td>2da90c7d74bd46a0caf3777415b3ebd3</td>\n",
       "      <td>1371816865</td>\n",
       "      <td>33.986391</td>\n",
       "      <td>-81.200714</td>\n",
       "      <td>0</td>\n",
       "    </tr>\n",
       "    <tr>\n",
       "      <th>1</th>\n",
       "      <td>1</td>\n",
       "      <td>2020-06-21 12:14:33</td>\n",
       "      <td>3573030041201292</td>\n",
       "      <td>fraud_Sporer-Keebler</td>\n",
       "      <td>personal_care</td>\n",
       "      <td>29.84</td>\n",
       "      <td>Joanne</td>\n",
       "      <td>Williams</td>\n",
       "      <td>F</td>\n",
       "      <td>3638 Marsh Union</td>\n",
       "      <td>...</td>\n",
       "      <td>40.3207</td>\n",
       "      <td>-110.4360</td>\n",
       "      <td>302</td>\n",
       "      <td>Sales professional, IT</td>\n",
       "      <td>1990-01-17</td>\n",
       "      <td>324cc204407e99f51b0d6ca0055005e7</td>\n",
       "      <td>1371816873</td>\n",
       "      <td>39.450498</td>\n",
       "      <td>-109.960431</td>\n",
       "      <td>0</td>\n",
       "    </tr>\n",
       "    <tr>\n",
       "      <th>2</th>\n",
       "      <td>2</td>\n",
       "      <td>2020-06-21 12:14:53</td>\n",
       "      <td>3598215285024754</td>\n",
       "      <td>fraud_Swaniawski, Nitzsche and Welch</td>\n",
       "      <td>health_fitness</td>\n",
       "      <td>41.28</td>\n",
       "      <td>Ashley</td>\n",
       "      <td>Lopez</td>\n",
       "      <td>F</td>\n",
       "      <td>9333 Valentine Point</td>\n",
       "      <td>...</td>\n",
       "      <td>40.6729</td>\n",
       "      <td>-73.5365</td>\n",
       "      <td>34496</td>\n",
       "      <td>Librarian, public</td>\n",
       "      <td>1970-10-21</td>\n",
       "      <td>c81755dbbbea9d5c77f094348a7579be</td>\n",
       "      <td>1371816893</td>\n",
       "      <td>40.495810</td>\n",
       "      <td>-74.196111</td>\n",
       "      <td>0</td>\n",
       "    </tr>\n",
       "    <tr>\n",
       "      <th>3</th>\n",
       "      <td>3</td>\n",
       "      <td>2020-06-21 12:15:15</td>\n",
       "      <td>3591919803438423</td>\n",
       "      <td>fraud_Haley Group</td>\n",
       "      <td>misc_pos</td>\n",
       "      <td>60.05</td>\n",
       "      <td>Brian</td>\n",
       "      <td>Williams</td>\n",
       "      <td>M</td>\n",
       "      <td>32941 Krystal Mill Apt. 552</td>\n",
       "      <td>...</td>\n",
       "      <td>28.5697</td>\n",
       "      <td>-80.8191</td>\n",
       "      <td>54767</td>\n",
       "      <td>Set designer</td>\n",
       "      <td>1987-07-25</td>\n",
       "      <td>2159175b9efe66dc301f149d3d5abf8c</td>\n",
       "      <td>1371816915</td>\n",
       "      <td>28.812398</td>\n",
       "      <td>-80.883061</td>\n",
       "      <td>0</td>\n",
       "    </tr>\n",
       "    <tr>\n",
       "      <th>4</th>\n",
       "      <td>4</td>\n",
       "      <td>2020-06-21 12:15:17</td>\n",
       "      <td>3526826139003047</td>\n",
       "      <td>fraud_Johnston-Casper</td>\n",
       "      <td>travel</td>\n",
       "      <td>3.19</td>\n",
       "      <td>Nathan</td>\n",
       "      <td>Massey</td>\n",
       "      <td>M</td>\n",
       "      <td>5783 Evan Roads Apt. 465</td>\n",
       "      <td>...</td>\n",
       "      <td>44.2529</td>\n",
       "      <td>-85.0170</td>\n",
       "      <td>1126</td>\n",
       "      <td>Furniture designer</td>\n",
       "      <td>1955-07-06</td>\n",
       "      <td>57ff021bd3f328f8738bb535c302a31b</td>\n",
       "      <td>1371816917</td>\n",
       "      <td>44.959148</td>\n",
       "      <td>-85.884734</td>\n",
       "      <td>0</td>\n",
       "    </tr>\n",
       "  </tbody>\n",
       "</table>\n",
       "<p>5 rows × 23 columns</p>\n",
       "</div>"
      ],
      "text/plain": [
       "   Unnamed: 0 trans_date_trans_time            cc_num  \\\n",
       "0           0   2020-06-21 12:14:25  2291163933867244   \n",
       "1           1   2020-06-21 12:14:33  3573030041201292   \n",
       "2           2   2020-06-21 12:14:53  3598215285024754   \n",
       "3           3   2020-06-21 12:15:15  3591919803438423   \n",
       "4           4   2020-06-21 12:15:17  3526826139003047   \n",
       "\n",
       "                               merchant        category    amt   first  \\\n",
       "0                 fraud_Kirlin and Sons   personal_care   2.86    Jeff   \n",
       "1                  fraud_Sporer-Keebler   personal_care  29.84  Joanne   \n",
       "2  fraud_Swaniawski, Nitzsche and Welch  health_fitness  41.28  Ashley   \n",
       "3                     fraud_Haley Group        misc_pos  60.05   Brian   \n",
       "4                 fraud_Johnston-Casper          travel   3.19  Nathan   \n",
       "\n",
       "       last gender                       street  ...      lat      long  \\\n",
       "0   Elliott      M            351 Darlene Green  ...  33.9659  -80.9355   \n",
       "1  Williams      F             3638 Marsh Union  ...  40.3207 -110.4360   \n",
       "2     Lopez      F         9333 Valentine Point  ...  40.6729  -73.5365   \n",
       "3  Williams      M  32941 Krystal Mill Apt. 552  ...  28.5697  -80.8191   \n",
       "4    Massey      M     5783 Evan Roads Apt. 465  ...  44.2529  -85.0170   \n",
       "\n",
       "   city_pop                     job         dob  \\\n",
       "0    333497     Mechanical engineer  1968-03-19   \n",
       "1       302  Sales professional, IT  1990-01-17   \n",
       "2     34496       Librarian, public  1970-10-21   \n",
       "3     54767            Set designer  1987-07-25   \n",
       "4      1126      Furniture designer  1955-07-06   \n",
       "\n",
       "                          trans_num   unix_time  merch_lat  merch_long  \\\n",
       "0  2da90c7d74bd46a0caf3777415b3ebd3  1371816865  33.986391  -81.200714   \n",
       "1  324cc204407e99f51b0d6ca0055005e7  1371816873  39.450498 -109.960431   \n",
       "2  c81755dbbbea9d5c77f094348a7579be  1371816893  40.495810  -74.196111   \n",
       "3  2159175b9efe66dc301f149d3d5abf8c  1371816915  28.812398  -80.883061   \n",
       "4  57ff021bd3f328f8738bb535c302a31b  1371816917  44.959148  -85.884734   \n",
       "\n",
       "   is_fraud  \n",
       "0         0  \n",
       "1         0  \n",
       "2         0  \n",
       "3         0  \n",
       "4         0  \n",
       "\n",
       "[5 rows x 23 columns]"
      ]
     },
     "execution_count": 232,
     "metadata": {},
     "output_type": "execute_result"
    }
   ],
   "source": [
    "test_data.head()"
   ]
  },
  {
   "cell_type": "code",
   "execution_count": 233,
   "metadata": {},
   "outputs": [
    {
     "name": "stdout",
     "output_type": "stream",
     "text": [
      "Unnamed: 0                 int64\n",
      "trans_date_trans_time     object\n",
      "cc_num                     int64\n",
      "merchant                  object\n",
      "category                  object\n",
      "amt                      float64\n",
      "first                     object\n",
      "last                      object\n",
      "gender                    object\n",
      "street                    object\n",
      "city                      object\n",
      "state                     object\n",
      "zip                        int64\n",
      "lat                      float64\n",
      "long                     float64\n",
      "city_pop                   int64\n",
      "job                       object\n",
      "dob                       object\n",
      "trans_num                 object\n",
      "unix_time                  int64\n",
      "merch_lat                float64\n",
      "merch_long               float64\n",
      "is_fraud                   int64\n",
      "dtype: object\n"
     ]
    }
   ],
   "source": [
    "print(test_data.dtypes)"
   ]
  },
  {
   "cell_type": "code",
   "execution_count": 234,
   "metadata": {},
   "outputs": [
    {
     "name": "stdout",
     "output_type": "stream",
     "text": [
      "(555719, 22)\n",
      "Unnamed: 0              int64\n",
      "amt                   float64\n",
      "lat                   float64\n",
      "long                  float64\n",
      "city_pop                int64\n",
      "merch_lat             float64\n",
      "merch_long            float64\n",
      "is_fraud                int64\n",
      "cat_entertainment        bool\n",
      "cat_food_dining          bool\n",
      "cat_gas_transport        bool\n",
      "cat_grocery_net          bool\n",
      "cat_grocery_pos          bool\n",
      "cat_health_fitness       bool\n",
      "cat_home                 bool\n",
      "cat_kids_pets            bool\n",
      "cat_misc_net             bool\n",
      "cat_misc_pos             bool\n",
      "cat_personal_care        bool\n",
      "cat_shopping_net         bool\n",
      "cat_shopping_pos         bool\n",
      "cat_travel               bool\n",
      "dtype: object\n",
      "(555719, 22)\n"
     ]
    }
   ],
   "source": [
    "\n",
    "col = ['trans_date_trans_time', 'cc_num', 'merchant', 'first', 'last', 'gender', 'street', 'city', 'state', 'zip', 'city', 'job', 'dob', 'trans_num', 'unix_time']\n",
    "test_data = test_data.drop(columns=col)\n",
    "\n",
    "# Preprocess the test data (select features and standardize)\n",
    "X_test = test_data[['category', 'amt', 'city_pop', 'lat', 'long', 'merch_lat', 'merch_long']]\n",
    "X_test = pd.get_dummies(test_data, columns=['category'], prefix=['cat']) # one-hot encoding para 'category'\n",
    "print(X_test.shape)\n",
    "print(X_test.dtypes)\n",
    "scaler = StandardScaler()\n",
    "X_test = scaler.fit_transform(X_test)\n",
    "print(X_test.shape)"
   ]
  },
  {
   "cell_type": "code",
   "execution_count": 107,
   "metadata": {},
   "outputs": [
    {
     "data": {
      "text/html": [
       "<div>\n",
       "<style scoped>\n",
       "    .dataframe tbody tr th:only-of-type {\n",
       "        vertical-align: middle;\n",
       "    }\n",
       "\n",
       "    .dataframe tbody tr th {\n",
       "        vertical-align: top;\n",
       "    }\n",
       "\n",
       "    .dataframe thead th {\n",
       "        text-align: right;\n",
       "    }\n",
       "</style>\n",
       "<table border=\"1\" class=\"dataframe\">\n",
       "  <thead>\n",
       "    <tr style=\"text-align: right;\">\n",
       "      <th></th>\n",
       "      <th>Unnamed: 0</th>\n",
       "      <th>category</th>\n",
       "      <th>amt</th>\n",
       "      <th>lat</th>\n",
       "      <th>long</th>\n",
       "      <th>city_pop</th>\n",
       "      <th>merch_lat</th>\n",
       "      <th>merch_long</th>\n",
       "      <th>is_fraud</th>\n",
       "    </tr>\n",
       "  </thead>\n",
       "  <tbody>\n",
       "    <tr>\n",
       "      <th>0</th>\n",
       "      <td>0</td>\n",
       "      <td>personal_care</td>\n",
       "      <td>2.86</td>\n",
       "      <td>33.9659</td>\n",
       "      <td>-80.9355</td>\n",
       "      <td>333497</td>\n",
       "      <td>33.986391</td>\n",
       "      <td>-81.200714</td>\n",
       "      <td>0</td>\n",
       "    </tr>\n",
       "    <tr>\n",
       "      <th>1</th>\n",
       "      <td>1</td>\n",
       "      <td>personal_care</td>\n",
       "      <td>29.84</td>\n",
       "      <td>40.3207</td>\n",
       "      <td>-110.4360</td>\n",
       "      <td>302</td>\n",
       "      <td>39.450498</td>\n",
       "      <td>-109.960431</td>\n",
       "      <td>0</td>\n",
       "    </tr>\n",
       "    <tr>\n",
       "      <th>2</th>\n",
       "      <td>2</td>\n",
       "      <td>health_fitness</td>\n",
       "      <td>41.28</td>\n",
       "      <td>40.6729</td>\n",
       "      <td>-73.5365</td>\n",
       "      <td>34496</td>\n",
       "      <td>40.495810</td>\n",
       "      <td>-74.196111</td>\n",
       "      <td>0</td>\n",
       "    </tr>\n",
       "    <tr>\n",
       "      <th>3</th>\n",
       "      <td>3</td>\n",
       "      <td>misc_pos</td>\n",
       "      <td>60.05</td>\n",
       "      <td>28.5697</td>\n",
       "      <td>-80.8191</td>\n",
       "      <td>54767</td>\n",
       "      <td>28.812398</td>\n",
       "      <td>-80.883061</td>\n",
       "      <td>0</td>\n",
       "    </tr>\n",
       "    <tr>\n",
       "      <th>4</th>\n",
       "      <td>4</td>\n",
       "      <td>travel</td>\n",
       "      <td>3.19</td>\n",
       "      <td>44.2529</td>\n",
       "      <td>-85.0170</td>\n",
       "      <td>1126</td>\n",
       "      <td>44.959148</td>\n",
       "      <td>-85.884734</td>\n",
       "      <td>0</td>\n",
       "    </tr>\n",
       "  </tbody>\n",
       "</table>\n",
       "</div>"
      ],
      "text/plain": [
       "   Unnamed: 0        category    amt      lat      long  city_pop  merch_lat  \\\n",
       "0           0   personal_care   2.86  33.9659  -80.9355    333497  33.986391   \n",
       "1           1   personal_care  29.84  40.3207 -110.4360       302  39.450498   \n",
       "2           2  health_fitness  41.28  40.6729  -73.5365     34496  40.495810   \n",
       "3           3        misc_pos  60.05  28.5697  -80.8191     54767  28.812398   \n",
       "4           4          travel   3.19  44.2529  -85.0170      1126  44.959148   \n",
       "\n",
       "   merch_long  is_fraud  \n",
       "0  -81.200714         0  \n",
       "1 -109.960431         0  \n",
       "2  -74.196111         0  \n",
       "3  -80.883061         0  \n",
       "4  -85.884734         0  "
      ]
     },
     "execution_count": 107,
     "metadata": {},
     "output_type": "execute_result"
    }
   ],
   "source": [
    "test_data.head()"
   ]
  },
  {
   "cell_type": "code",
   "execution_count": 181,
   "metadata": {},
   "outputs": [
    {
     "name": "stdout",
     "output_type": "stream",
     "text": [
      "Model: \"sequential\"\n",
      "_________________________________________________________________\n",
      " Layer (type)                Output Shape              Param #   \n",
      "=================================================================\n",
      " dense (Dense)               (None, 16)                368       \n",
      "                                                                 \n",
      " dense_1 (Dense)             (None, 8)                 136       \n",
      "                                                                 \n",
      " dense_2 (Dense)             (None, 1)                 9         \n",
      "                                                                 \n",
      "=================================================================\n",
      "Total params: 513 (2.00 KB)\n",
      "Trainable params: 513 (2.00 KB)\n",
      "Non-trainable params: 0 (0.00 Byte)\n",
      "_________________________________________________________________\n"
     ]
    }
   ],
   "source": [
    "loaded_model = tf.keras.models.load_model(\"detector.h5\")\n",
    "loaded_model.summary()"
   ]
  },
  {
   "cell_type": "code",
   "execution_count": 111,
   "metadata": {},
   "outputs": [
    {
     "name": "stdout",
     "output_type": "stream",
     "text": [
      "17367/17367 [==============================] - 15s 883us/step\n"
     ]
    }
   ],
   "source": [
    "# Use your trained model to make predictions on the test data\n",
    "y_pred = loaded_model.predict(X_test)"
   ]
  },
  {
   "cell_type": "code",
   "execution_count": 229,
   "metadata": {},
   "outputs": [
    {
     "data": {
      "text/plain": [
       "array([1.])"
      ]
     },
     "execution_count": 229,
     "metadata": {},
     "output_type": "execute_result"
    }
   ],
   "source": [
    "y_pred[1685].astype(float)"
   ]
  },
  {
   "cell_type": "code",
   "execution_count": 201,
   "metadata": {},
   "outputs": [],
   "source": [
    "# New column with y_pred value\n",
    "test_data['predic'] = y_pred"
   ]
  },
  {
   "cell_type": "code",
   "execution_count": 202,
   "metadata": {},
   "outputs": [],
   "source": [
    "# Apply the threshold (e.g., 0.5) to classify transactions as fraud or not fraud\n",
    "threshold = 0.5\n",
    "fraudulent_rows = test_data[y_pred > threshold]"
   ]
  },
  {
   "cell_type": "code",
   "execution_count": 204,
   "metadata": {},
   "outputs": [
    {
     "name": "stdout",
     "output_type": "stream",
     "text": [
      "        Unnamed: 0        category      amt      lat      long  city_pop  \\\n",
      "1685          1685  health_fitness    24.84  31.8599 -102.7413        23   \n",
      "1767          1767        misc_net   780.52  42.5545  -90.3508      1306   \n",
      "1781          1781   entertainment   620.33  42.5545  -90.3508      1306   \n",
      "1784          1784    shopping_net  1077.69  30.4590  -90.9027     71335   \n",
      "1857          1857    shopping_pos   842.65  31.8599 -102.7413        23   \n",
      "...            ...             ...      ...      ...       ...       ...   \n",
      "517197      517197    shopping_pos  1041.51  34.6323  -89.8855     14462   \n",
      "517274      517274    shopping_pos   868.09  34.6323  -89.8855     14462   \n",
      "517341      517341    shopping_net  1039.42  34.6323  -89.8855     14462   \n",
      "517529      517529     grocery_pos   289.27  34.6323  -89.8855     14462   \n",
      "517571      517571        misc_net   766.38  34.6323  -89.8855     14462   \n",
      "\n",
      "        merch_lat  merch_long  is_fraud  predic  \n",
      "1685    32.575873 -102.604290         1     1.0  \n",
      "1767    42.461127  -91.147148         1     1.0  \n",
      "1781    42.771834  -90.158365         1     1.0  \n",
      "1784    31.204974  -90.261595         1     1.0  \n",
      "1857    31.315782 -102.736390         1     1.0  \n",
      "...           ...         ...       ...     ...  \n",
      "517197  34.573471  -89.911011         1     1.0  \n",
      "517274  34.091227  -90.390612         1     1.0  \n",
      "517341  34.628434  -90.284780         1     1.0  \n",
      "517529  34.746063  -90.401093         1     1.0  \n",
      "517571  33.771462  -90.651342         1     1.0  \n",
      "\n",
      "[2145 rows x 10 columns]\n"
     ]
    }
   ],
   "source": [
    "# Print the rows where the model classifies transactions as fraud\n",
    "print(fraudulent_rows)"
   ]
  },
  {
   "cell_type": "code",
   "execution_count": 165,
   "metadata": {},
   "outputs": [
    {
     "data": {
      "text/html": [
       "<div>\n",
       "<style scoped>\n",
       "    .dataframe tbody tr th:only-of-type {\n",
       "        vertical-align: middle;\n",
       "    }\n",
       "\n",
       "    .dataframe tbody tr th {\n",
       "        vertical-align: top;\n",
       "    }\n",
       "\n",
       "    .dataframe thead th {\n",
       "        text-align: right;\n",
       "    }\n",
       "</style>\n",
       "<table border=\"1\" class=\"dataframe\">\n",
       "  <thead>\n",
       "    <tr style=\"text-align: right;\">\n",
       "      <th></th>\n",
       "      <th>Unnamed: 0</th>\n",
       "      <th>category</th>\n",
       "      <th>amt</th>\n",
       "      <th>lat</th>\n",
       "      <th>long</th>\n",
       "      <th>city_pop</th>\n",
       "      <th>merch_lat</th>\n",
       "      <th>merch_long</th>\n",
       "      <th>is_fraud</th>\n",
       "    </tr>\n",
       "  </thead>\n",
       "  <tbody>\n",
       "    <tr>\n",
       "      <th>0</th>\n",
       "      <td>0</td>\n",
       "      <td>personal_care</td>\n",
       "      <td>2.86</td>\n",
       "      <td>33.9659</td>\n",
       "      <td>-80.9355</td>\n",
       "      <td>333497</td>\n",
       "      <td>33.986391</td>\n",
       "      <td>-81.200714</td>\n",
       "      <td>0</td>\n",
       "    </tr>\n",
       "    <tr>\n",
       "      <th>1</th>\n",
       "      <td>1</td>\n",
       "      <td>personal_care</td>\n",
       "      <td>29.84</td>\n",
       "      <td>40.3207</td>\n",
       "      <td>-110.4360</td>\n",
       "      <td>302</td>\n",
       "      <td>39.450498</td>\n",
       "      <td>-109.960431</td>\n",
       "      <td>0</td>\n",
       "    </tr>\n",
       "    <tr>\n",
       "      <th>2</th>\n",
       "      <td>2</td>\n",
       "      <td>health_fitness</td>\n",
       "      <td>41.28</td>\n",
       "      <td>40.6729</td>\n",
       "      <td>-73.5365</td>\n",
       "      <td>34496</td>\n",
       "      <td>40.495810</td>\n",
       "      <td>-74.196111</td>\n",
       "      <td>0</td>\n",
       "    </tr>\n",
       "    <tr>\n",
       "      <th>3</th>\n",
       "      <td>3</td>\n",
       "      <td>misc_pos</td>\n",
       "      <td>60.05</td>\n",
       "      <td>28.5697</td>\n",
       "      <td>-80.8191</td>\n",
       "      <td>54767</td>\n",
       "      <td>28.812398</td>\n",
       "      <td>-80.883061</td>\n",
       "      <td>0</td>\n",
       "    </tr>\n",
       "    <tr>\n",
       "      <th>4</th>\n",
       "      <td>4</td>\n",
       "      <td>travel</td>\n",
       "      <td>3.19</td>\n",
       "      <td>44.2529</td>\n",
       "      <td>-85.0170</td>\n",
       "      <td>1126</td>\n",
       "      <td>44.959148</td>\n",
       "      <td>-85.884734</td>\n",
       "      <td>0</td>\n",
       "    </tr>\n",
       "    <tr>\n",
       "      <th>...</th>\n",
       "      <td>...</td>\n",
       "      <td>...</td>\n",
       "      <td>...</td>\n",
       "      <td>...</td>\n",
       "      <td>...</td>\n",
       "      <td>...</td>\n",
       "      <td>...</td>\n",
       "      <td>...</td>\n",
       "      <td>...</td>\n",
       "    </tr>\n",
       "    <tr>\n",
       "      <th>1682</th>\n",
       "      <td>1682</td>\n",
       "      <td>home</td>\n",
       "      <td>89.82</td>\n",
       "      <td>39.0305</td>\n",
       "      <td>-76.5515</td>\n",
       "      <td>92106</td>\n",
       "      <td>38.400359</td>\n",
       "      <td>-76.923792</td>\n",
       "      <td>0</td>\n",
       "    </tr>\n",
       "    <tr>\n",
       "      <th>1683</th>\n",
       "      <td>1683</td>\n",
       "      <td>personal_care</td>\n",
       "      <td>85.45</td>\n",
       "      <td>41.4802</td>\n",
       "      <td>-86.6919</td>\n",
       "      <td>1423</td>\n",
       "      <td>41.214552</td>\n",
       "      <td>-86.874168</td>\n",
       "      <td>0</td>\n",
       "    </tr>\n",
       "    <tr>\n",
       "      <th>1684</th>\n",
       "      <td>1684</td>\n",
       "      <td>food_dining</td>\n",
       "      <td>57.13</td>\n",
       "      <td>36.3011</td>\n",
       "      <td>-91.5281</td>\n",
       "      <td>4726</td>\n",
       "      <td>35.614887</td>\n",
       "      <td>-92.183553</td>\n",
       "      <td>0</td>\n",
       "    </tr>\n",
       "    <tr>\n",
       "      <th>1685</th>\n",
       "      <td>1685</td>\n",
       "      <td>health_fitness</td>\n",
       "      <td>24.84</td>\n",
       "      <td>31.8599</td>\n",
       "      <td>-102.7413</td>\n",
       "      <td>23</td>\n",
       "      <td>32.575873</td>\n",
       "      <td>-102.604290</td>\n",
       "      <td>1</td>\n",
       "    </tr>\n",
       "    <tr>\n",
       "      <th>1686</th>\n",
       "      <td>1686</td>\n",
       "      <td>home</td>\n",
       "      <td>10.07</td>\n",
       "      <td>38.4121</td>\n",
       "      <td>-75.2811</td>\n",
       "      <td>718</td>\n",
       "      <td>38.715701</td>\n",
       "      <td>-74.855675</td>\n",
       "      <td>0</td>\n",
       "    </tr>\n",
       "  </tbody>\n",
       "</table>\n",
       "<p>1687 rows × 9 columns</p>\n",
       "</div>"
      ],
      "text/plain": [
       "      Unnamed: 0        category    amt      lat      long  city_pop  \\\n",
       "0              0   personal_care   2.86  33.9659  -80.9355    333497   \n",
       "1              1   personal_care  29.84  40.3207 -110.4360       302   \n",
       "2              2  health_fitness  41.28  40.6729  -73.5365     34496   \n",
       "3              3        misc_pos  60.05  28.5697  -80.8191     54767   \n",
       "4              4          travel   3.19  44.2529  -85.0170      1126   \n",
       "...          ...             ...    ...      ...       ...       ...   \n",
       "1682        1682            home  89.82  39.0305  -76.5515     92106   \n",
       "1683        1683   personal_care  85.45  41.4802  -86.6919      1423   \n",
       "1684        1684     food_dining  57.13  36.3011  -91.5281      4726   \n",
       "1685        1685  health_fitness  24.84  31.8599 -102.7413        23   \n",
       "1686        1686            home  10.07  38.4121  -75.2811       718   \n",
       "\n",
       "      merch_lat  merch_long  is_fraud  \n",
       "0     33.986391  -81.200714         0  \n",
       "1     39.450498 -109.960431         0  \n",
       "2     40.495810  -74.196111         0  \n",
       "3     28.812398  -80.883061         0  \n",
       "4     44.959148  -85.884734         0  \n",
       "...         ...         ...       ...  \n",
       "1682  38.400359  -76.923792         0  \n",
       "1683  41.214552  -86.874168         0  \n",
       "1684  35.614887  -92.183553         0  \n",
       "1685  32.575873 -102.604290         1  \n",
       "1686  38.715701  -74.855675         0  \n",
       "\n",
       "[1687 rows x 9 columns]"
      ]
     },
     "execution_count": 165,
     "metadata": {},
     "output_type": "execute_result"
    }
   ],
   "source": [
    "test_data.head(1687)"
   ]
  },
  {
   "cell_type": "markdown",
   "metadata": {},
   "source": [
    "## Simulación de input"
   ]
  },
  {
   "cell_type": "code",
   "execution_count": 174,
   "metadata": {},
   "outputs": [],
   "source": [
    "input_data = {\n",
    "    'Unnamed: 0': 1685,\n",
    "    'trans_date_trans_time': '2020-06-21 22:06:39',\n",
    "    'cc_num': 3560725013359375,\n",
    "    'merchant': \"fraud_Hamill-D'Amore\",\n",
    "    'category': 'health_fitness',\n",
    "    'amt': 24.84,\n",
    "    'first': 'Brooke',\n",
    "    'last': 'Smith',\n",
    "    'gender': 'F',\n",
    "    'street': '63542 Luna Brook Apt. 012',\n",
    "    'city': 'Notrees',\n",
    "    'state': 'TX',\n",
    "    'zip': 79759,\n",
    "    'lat': 31.8599,\n",
    "    'long': -102.7413,\n",
    "    'city_pop': 23,\n",
    "    'job': 'Cytogeneticist',\n",
    "    'dob': '1969-09-15',\n",
    "    'trans_num': '16bf2e46c54369a8eab2214649506425',\n",
    "    'unix_time': 1371852399,\n",
    "    'merch_lat': 32.575873,\n",
    "    'merch_long': -102.60429,\n",
    "    'is_fraud': 1\n",
    "}\n"
   ]
  },
  {
   "cell_type": "code",
   "execution_count": 175,
   "metadata": {},
   "outputs": [
    {
     "name": "stdout",
     "output_type": "stream",
     "text": [
      "(1, 23)\n"
     ]
    },
    {
     "data": {
      "text/html": [
       "<div>\n",
       "<style scoped>\n",
       "    .dataframe tbody tr th:only-of-type {\n",
       "        vertical-align: middle;\n",
       "    }\n",
       "\n",
       "    .dataframe tbody tr th {\n",
       "        vertical-align: top;\n",
       "    }\n",
       "\n",
       "    .dataframe thead th {\n",
       "        text-align: right;\n",
       "    }\n",
       "</style>\n",
       "<table border=\"1\" class=\"dataframe\">\n",
       "  <thead>\n",
       "    <tr style=\"text-align: right;\">\n",
       "      <th></th>\n",
       "      <th>Unnamed: 0</th>\n",
       "      <th>trans_date_trans_time</th>\n",
       "      <th>cc_num</th>\n",
       "      <th>merchant</th>\n",
       "      <th>category</th>\n",
       "      <th>amt</th>\n",
       "      <th>first</th>\n",
       "      <th>last</th>\n",
       "      <th>gender</th>\n",
       "      <th>street</th>\n",
       "      <th>...</th>\n",
       "      <th>lat</th>\n",
       "      <th>long</th>\n",
       "      <th>city_pop</th>\n",
       "      <th>job</th>\n",
       "      <th>dob</th>\n",
       "      <th>trans_num</th>\n",
       "      <th>unix_time</th>\n",
       "      <th>merch_lat</th>\n",
       "      <th>merch_long</th>\n",
       "      <th>is_fraud</th>\n",
       "    </tr>\n",
       "  </thead>\n",
       "  <tbody>\n",
       "    <tr>\n",
       "      <th>0</th>\n",
       "      <td>1685</td>\n",
       "      <td>2020-06-21 22:06:39</td>\n",
       "      <td>3560725013359375</td>\n",
       "      <td>fraud_Hamill-D'Amore</td>\n",
       "      <td>health_fitness</td>\n",
       "      <td>24.84</td>\n",
       "      <td>Brooke</td>\n",
       "      <td>Smith</td>\n",
       "      <td>F</td>\n",
       "      <td>63542 Luna Brook Apt. 012</td>\n",
       "      <td>...</td>\n",
       "      <td>31.8599</td>\n",
       "      <td>-102.7413</td>\n",
       "      <td>23</td>\n",
       "      <td>Cytogeneticist</td>\n",
       "      <td>1969-09-15</td>\n",
       "      <td>16bf2e46c54369a8eab2214649506425</td>\n",
       "      <td>1371852399</td>\n",
       "      <td>32.575873</td>\n",
       "      <td>-102.60429</td>\n",
       "      <td>1</td>\n",
       "    </tr>\n",
       "  </tbody>\n",
       "</table>\n",
       "<p>1 rows × 23 columns</p>\n",
       "</div>"
      ],
      "text/plain": [
       "   Unnamed: 0 trans_date_trans_time            cc_num              merchant  \\\n",
       "0        1685   2020-06-21 22:06:39  3560725013359375  fraud_Hamill-D'Amore   \n",
       "\n",
       "         category    amt   first   last gender                     street  \\\n",
       "0  health_fitness  24.84  Brooke  Smith      F  63542 Luna Brook Apt. 012   \n",
       "\n",
       "   ...      lat      long  city_pop             job         dob  \\\n",
       "0  ...  31.8599 -102.7413        23  Cytogeneticist  1969-09-15   \n",
       "\n",
       "                          trans_num   unix_time  merch_lat merch_long  \\\n",
       "0  16bf2e46c54369a8eab2214649506425  1371852399  32.575873 -102.60429   \n",
       "\n",
       "   is_fraud  \n",
       "0         1  \n",
       "\n",
       "[1 rows x 23 columns]"
      ]
     },
     "execution_count": 175,
     "metadata": {},
     "output_type": "execute_result"
    }
   ],
   "source": [
    "# Create a DataFrame from the input data\n",
    "input_df = pd.DataFrame([input_data])\n",
    "print(input_df.shape)\n",
    "input_df.head()"
   ]
  },
  {
   "cell_type": "code",
   "execution_count": 176,
   "metadata": {},
   "outputs": [],
   "source": [
    "test_data = pd.read_csv('../../../datasets/fraudTest.csv')"
   ]
  },
  {
   "cell_type": "code",
   "execution_count": 177,
   "metadata": {},
   "outputs": [
    {
     "name": "stdout",
     "output_type": "stream",
     "text": [
      "(1, 9)\n",
      "(555719, 9)\n",
      "Unnamed: 0      int64\n",
      "category       object\n",
      "amt           float64\n",
      "lat           float64\n",
      "long          float64\n",
      "city_pop        int64\n",
      "merch_lat     float64\n",
      "merch_long    float64\n",
      "is_fraud        int64\n",
      "dtype: object\n"
     ]
    }
   ],
   "source": [
    "col = ['trans_date_trans_time', 'cc_num', 'merchant', 'first', 'last', 'gender', 'street', 'city', 'state', 'zip', 'city', 'job', 'dob', 'trans_num', 'unix_time']\n",
    "input_df = input_df.drop(columns=col)\n",
    "print(input_df.shape)\n",
    "test_data = test_data.drop(columns=col)\n",
    "print(test_data.shape)\n",
    "print(test_data.dtypes)"
   ]
  },
  {
   "cell_type": "code",
   "execution_count": 178,
   "metadata": {},
   "outputs": [
    {
     "data": {
      "text/html": [
       "<div>\n",
       "<style scoped>\n",
       "    .dataframe tbody tr th:only-of-type {\n",
       "        vertical-align: middle;\n",
       "    }\n",
       "\n",
       "    .dataframe tbody tr th {\n",
       "        vertical-align: top;\n",
       "    }\n",
       "\n",
       "    .dataframe thead th {\n",
       "        text-align: right;\n",
       "    }\n",
       "</style>\n",
       "<table border=\"1\" class=\"dataframe\">\n",
       "  <thead>\n",
       "    <tr style=\"text-align: right;\">\n",
       "      <th></th>\n",
       "      <th>cat_personal_care</th>\n",
       "      <th>cat_health_fitness</th>\n",
       "      <th>cat_misc_pos</th>\n",
       "      <th>cat_travel</th>\n",
       "      <th>cat_kids_pets</th>\n",
       "      <th>cat_shopping_pos</th>\n",
       "      <th>cat_food_dining</th>\n",
       "      <th>cat_home</th>\n",
       "      <th>cat_entertainment</th>\n",
       "      <th>cat_shopping_net</th>\n",
       "      <th>cat_misc_net</th>\n",
       "      <th>cat_grocery_pos</th>\n",
       "      <th>cat_gas_transport</th>\n",
       "      <th>cat_grocery_net</th>\n",
       "    </tr>\n",
       "  </thead>\n",
       "  <tbody>\n",
       "    <tr>\n",
       "      <th>0</th>\n",
       "      <td>False</td>\n",
       "      <td>False</td>\n",
       "      <td>False</td>\n",
       "      <td>False</td>\n",
       "      <td>False</td>\n",
       "      <td>False</td>\n",
       "      <td>False</td>\n",
       "      <td>False</td>\n",
       "      <td>False</td>\n",
       "      <td>False</td>\n",
       "      <td>False</td>\n",
       "      <td>False</td>\n",
       "      <td>False</td>\n",
       "      <td>False</td>\n",
       "    </tr>\n",
       "  </tbody>\n",
       "</table>\n",
       "</div>"
      ],
      "text/plain": [
       "   cat_personal_care  cat_health_fitness  cat_misc_pos  cat_travel  \\\n",
       "0              False               False         False       False   \n",
       "\n",
       "   cat_kids_pets  cat_shopping_pos  cat_food_dining  cat_home  \\\n",
       "0          False             False            False     False   \n",
       "\n",
       "   cat_entertainment  cat_shopping_net  cat_misc_net  cat_grocery_pos  \\\n",
       "0              False             False         False            False   \n",
       "\n",
       "   cat_gas_transport  cat_grocery_net  \n",
       "0              False            False  "
      ]
     },
     "execution_count": 178,
     "metadata": {},
     "output_type": "execute_result"
    }
   ],
   "source": [
    "categories = test_data['category'].unique()\n",
    "#OH_categories = pd.get_dummies(categoriesDF, columns=categories, prefix=\"cat\")\n",
    "#print(categoriesDF.head())\n",
    "#print(OH_categories)\n",
    "OH_categories = pd.DataFrame(False, index=[0], columns=[f'cat_{category}' for category in categories])\n",
    "\"\"\"for category in categories:\n",
    "    OH_categories.loc[0, f'cat_{category}'] = False\"\"\"\n",
    "OH_categories.head()"
   ]
  },
  {
   "cell_type": "code",
   "execution_count": 179,
   "metadata": {},
   "outputs": [
    {
     "name": "stdout",
     "output_type": "stream",
     "text": [
      "Unnamed: 0              int64\n",
      "amt                   float64\n",
      "lat                   float64\n",
      "long                  float64\n",
      "city_pop                int64\n",
      "merch_lat             float64\n",
      "merch_long            float64\n",
      "is_fraud                int64\n",
      "cat_health_fitness       bool\n",
      "cat_entertainment        bool\n",
      "cat_food_dining          bool\n",
      "cat_gas_transport        bool\n",
      "cat_grocery_net          bool\n",
      "cat_grocery_pos          bool\n",
      "cat_home                 bool\n",
      "cat_kids_pets            bool\n",
      "cat_misc_net             bool\n",
      "cat_misc_pos             bool\n",
      "cat_personal_care        bool\n",
      "cat_shopping_net         bool\n",
      "cat_shopping_pos         bool\n",
      "cat_travel               bool\n",
      "dtype: object\n",
      "(1, 22)\n"
     ]
    }
   ],
   "source": [
    "input_test = input_df[['amt', 'city_pop', 'lat', 'long', 'merch_lat', 'merch_long', 'category']]\n",
    "input_test = pd.get_dummies(input_df, columns=['category'], prefix=['cat']) # one-hot encoding para 'category'\n",
    "common_columns = OH_categories.columns.intersection(input_test.columns).tolist()  # Get common column names\n",
    "OH_categories = OH_categories[OH_categories.columns.difference(common_columns)]\n",
    "input_test = pd.concat([input_test, OH_categories], axis=1)\n",
    "print(input_test.dtypes)\n",
    "scaler = StandardScaler()\n",
    "input_test = scaler.fit_transform(input_test)\n",
    "print(input_test.shape)\n"
   ]
  },
  {
   "cell_type": "code",
   "execution_count": 180,
   "metadata": {},
   "outputs": [
    {
     "data": {
      "text/html": [
       "<div>\n",
       "<style scoped>\n",
       "    .dataframe tbody tr th:only-of-type {\n",
       "        vertical-align: middle;\n",
       "    }\n",
       "\n",
       "    .dataframe tbody tr th {\n",
       "        vertical-align: top;\n",
       "    }\n",
       "\n",
       "    .dataframe thead th {\n",
       "        text-align: right;\n",
       "    }\n",
       "</style>\n",
       "<table border=\"1\" class=\"dataframe\">\n",
       "  <thead>\n",
       "    <tr style=\"text-align: right;\">\n",
       "      <th></th>\n",
       "      <th>Unnamed: 0</th>\n",
       "      <th>category</th>\n",
       "      <th>amt</th>\n",
       "      <th>lat</th>\n",
       "      <th>long</th>\n",
       "      <th>city_pop</th>\n",
       "      <th>merch_lat</th>\n",
       "      <th>merch_long</th>\n",
       "      <th>is_fraud</th>\n",
       "    </tr>\n",
       "  </thead>\n",
       "  <tbody>\n",
       "    <tr>\n",
       "      <th>0</th>\n",
       "      <td>1685</td>\n",
       "      <td>health_fitness</td>\n",
       "      <td>24.84</td>\n",
       "      <td>31.8599</td>\n",
       "      <td>-102.7413</td>\n",
       "      <td>23</td>\n",
       "      <td>32.575873</td>\n",
       "      <td>-102.60429</td>\n",
       "      <td>1</td>\n",
       "    </tr>\n",
       "  </tbody>\n",
       "</table>\n",
       "</div>"
      ],
      "text/plain": [
       "   Unnamed: 0        category    amt      lat      long  city_pop  merch_lat  \\\n",
       "0        1685  health_fitness  24.84  31.8599 -102.7413        23  32.575873   \n",
       "\n",
       "   merch_long  is_fraud  \n",
       "0  -102.60429         1  "
      ]
     },
     "execution_count": 180,
     "metadata": {},
     "output_type": "execute_result"
    }
   ],
   "source": [
    "input_df.head()"
   ]
  },
  {
   "cell_type": "code",
   "execution_count": 182,
   "metadata": {},
   "outputs": [
    {
     "name": "stdout",
     "output_type": "stream",
     "text": [
      "Model: \"sequential\"\n",
      "_________________________________________________________________\n",
      " Layer (type)                Output Shape              Param #   \n",
      "=================================================================\n",
      " dense (Dense)               (None, 16)                368       \n",
      "                                                                 \n",
      " dense_1 (Dense)             (None, 8)                 136       \n",
      "                                                                 \n",
      " dense_2 (Dense)             (None, 1)                 9         \n",
      "                                                                 \n",
      "=================================================================\n",
      "Total params: 513 (2.00 KB)\n",
      "Trainable params: 513 (2.00 KB)\n",
      "Non-trainable params: 0 (0.00 Byte)\n",
      "_________________________________________________________________\n"
     ]
    }
   ],
   "source": [
    "# Load the saved model\n",
    "loaded_model = tf.keras.models.load_model(\"detector.h5\")\n",
    "loaded_model.summary()"
   ]
  },
  {
   "cell_type": "code",
   "execution_count": 226,
   "metadata": {},
   "outputs": [
    {
     "name": "stdout",
     "output_type": "stream",
     "text": [
      "1/1 [==============================] - 0s 21ms/step\n"
     ]
    }
   ],
   "source": [
    "# Use the loaded model for predictions\n",
    "z_pred = loaded_model.predict(input_test)\n"
   ]
  },
  {
   "cell_type": "code",
   "execution_count": 228,
   "metadata": {},
   "outputs": [
    {
     "data": {
      "text/plain": [
       "array([[1.21901871e-06]])"
      ]
     },
     "execution_count": 228,
     "metadata": {},
     "output_type": "execute_result"
    }
   ],
   "source": [
    "z_pred.astype(float)"
   ]
  },
  {
   "cell_type": "code",
   "execution_count": 185,
   "metadata": {},
   "outputs": [
    {
     "name": "stdout",
     "output_type": "stream",
     "text": [
      "The transaction is not classified as fraud.\n"
     ]
    }
   ],
   "source": [
    "# Print the result\n",
    "if z_pred > 0.5:\n",
    "    print(\"The transaction is classified as fraud.\")\n",
    "else:\n",
    "    print(\"The transaction is not classified as fraud.\")"
   ]
  }
 ],
 "metadata": {
  "kernelspec": {
   "display_name": "Python 3",
   "language": "python",
   "name": "python3"
  },
  "language_info": {
   "codemirror_mode": {
    "name": "ipython",
    "version": 3
   },
   "file_extension": ".py",
   "mimetype": "text/x-python",
   "name": "python",
   "nbconvert_exporter": "python",
   "pygments_lexer": "ipython3",
   "version": "3.11.5"
  }
 },
 "nbformat": 4,
 "nbformat_minor": 2
}
