{
 "cells": [
  {
   "cell_type": "code",
   "execution_count": 2,
   "metadata": {},
   "outputs": [],
   "source": [
    "import numpy as np\n",
    "import pandas as pd\n",
    "import tensorflow as tf\n",
    "from sklearn.model_selection import train_test_split\n",
    "from sklearn.preprocessing import StandardScaler\n",
    "from sklearn.metrics import confusion_matrix, classification_report, accuracy_score, precision_score, recall_score, f1_score"
   ]
  },
  {
   "cell_type": "code",
   "execution_count": 3,
   "metadata": {},
   "outputs": [],
   "source": [
    "# Load your dataset\n",
    "data = pd.read_csv('datasets/fraudTrain.csv')"
   ]
  },
  {
   "cell_type": "code",
   "execution_count": 4,
   "metadata": {},
   "outputs": [],
   "source": [
    "# Select relevant features and labels\n",
    "X = data[['amt', 'city_pop', 'lat', 'long', 'merch_lat', 'merch_long']]\n",
    "y = data['is_fraud']"
   ]
  },
  {
   "cell_type": "code",
   "execution_count": 5,
   "metadata": {},
   "outputs": [
    {
     "name": "stdout",
     "output_type": "stream",
     "text": [
      "      amt  city_pop      lat      long  merch_lat  merch_long\n",
      "0    4.97      3495  36.0788  -81.1781  36.011293  -82.048315\n",
      "1  107.23       149  48.8878 -118.2105  49.159047 -118.186462\n",
      "2  220.11      4154  42.1808 -112.2620  43.150704 -112.154481\n",
      "3   45.00      1939  46.2306 -112.1138  47.034331 -112.561071\n",
      "4   41.96        99  38.4207  -79.4629  38.674999  -78.632459\n"
     ]
    }
   ],
   "source": [
    "print(X.head())"
   ]
  },
  {
   "cell_type": "code",
   "execution_count": 8,
   "metadata": {},
   "outputs": [],
   "source": [
    "# Split the data into training and testing sets\n",
    "X_train, X_raw_test, y_train, y_raw_test = train_test_split(X, y, test_size=0.2, random_state=42)\n",
    "\n",
    "# Standardize the features to have zero mean and unit variance\n",
    "scaler = StandardScaler()\n",
    "X_train = scaler.fit_transform(X_train)\n",
    "X_raw_test = scaler.transform(X_raw_test)"
   ]
  },
  {
   "cell_type": "code",
   "execution_count": 9,
   "metadata": {},
   "outputs": [],
   "source": [
    "# Create a simple feed-forward neural network model\n",
    "model = tf.keras.Sequential([\n",
    "    tf.keras.layers.Dense(units=16, activation='relu', input_dim=X_train.shape[1]),\n",
    "    tf.keras.layers.Dense(units=8, activation='relu'),\n",
    "    tf.keras.layers.Dense(units=1, activation='sigmoid')\n",
    "])"
   ]
  },
  {
   "cell_type": "code",
   "execution_count": 10,
   "metadata": {},
   "outputs": [],
   "source": [
    "# Compile the model\n",
    "model.compile(optimizer='adam', loss='binary_crossentropy', metrics=['accuracy'])"
   ]
  },
  {
   "cell_type": "code",
   "execution_count": 14,
   "metadata": {},
   "outputs": [
    {
     "name": "stdout",
     "output_type": "stream",
     "text": [
      "Epoch 1/10\n",
      "32417/32417 [==============================] - 58s 2ms/step - loss: 0.0248 - accuracy: 0.9942 - val_loss: 0.0215 - val_accuracy: 0.9941\n",
      "Epoch 2/10\n",
      "32417/32417 [==============================] - 52s 2ms/step - loss: 0.0215 - accuracy: 0.9942 - val_loss: 0.0208 - val_accuracy: 0.9941\n",
      "Epoch 3/10\n",
      "32417/32417 [==============================] - 51s 2ms/step - loss: 0.0207 - accuracy: 0.9943 - val_loss: 0.0201 - val_accuracy: 0.9943\n",
      "Epoch 4/10\n",
      "32417/32417 [==============================] - 63s 2ms/step - loss: 0.0203 - accuracy: 0.9943 - val_loss: 0.0201 - val_accuracy: 0.9942\n",
      "Epoch 5/10\n",
      "32417/32417 [==============================] - 52s 2ms/step - loss: 0.0199 - accuracy: 0.9944 - val_loss: 0.0195 - val_accuracy: 0.9942\n",
      "Epoch 6/10\n",
      "32417/32417 [==============================] - 75s 2ms/step - loss: 0.0197 - accuracy: 0.9944 - val_loss: 0.0194 - val_accuracy: 0.9942\n",
      "Epoch 7/10\n",
      "32417/32417 [==============================] - 106s 3ms/step - loss: 0.0195 - accuracy: 0.9945 - val_loss: 0.0193 - val_accuracy: 0.9943\n",
      "Epoch 8/10\n",
      "32417/32417 [==============================] - 85s 3ms/step - loss: 0.0194 - accuracy: 0.9945 - val_loss: 0.0195 - val_accuracy: 0.9944\n",
      "Epoch 9/10\n",
      "32417/32417 [==============================] - 81s 3ms/step - loss: 0.0194 - accuracy: 0.9945 - val_loss: 0.0191 - val_accuracy: 0.9944\n",
      "Epoch 10/10\n",
      "32417/32417 [==============================] - 100s 3ms/step - loss: 0.0192 - accuracy: 0.9945 - val_loss: 0.0191 - val_accuracy: 0.9944\n"
     ]
    },
    {
     "data": {
      "text/plain": [
       "<keras.src.callbacks.History at 0x1e492a84d10>"
      ]
     },
     "execution_count": 14,
     "metadata": {},
     "output_type": "execute_result"
    }
   ],
   "source": [
    "# Train the model\n",
    "model.fit(X_train, y_train, epochs=10, batch_size=32, validation_data=(X_raw_test, y_raw_test))"
   ]
  },
  {
   "cell_type": "code",
   "execution_count": 15,
   "metadata": {},
   "outputs": [
    {
     "name": "stdout",
     "output_type": "stream",
     "text": [
      "8105/8105 [==============================] - 22s 3ms/step\n"
     ]
    }
   ],
   "source": [
    "# Evaluate the model\n",
    "y_pred = model.predict(X_raw_test)\n",
    "y_pred = (y_pred > 0.5)  # Convert probabilities to binary predictions - if prob > 0.5 is fraud and vice versa"
   ]
  },
  {
   "cell_type": "code",
   "execution_count": 16,
   "metadata": {},
   "outputs": [
    {
     "name": "stdout",
     "output_type": "stream",
     "text": [
      "Confusion Matrix:\n",
      "[[257594    221]\n",
      " [  1227    293]]\n"
     ]
    }
   ],
   "source": [
    "# Calculate confusion matrix and classification report\n",
    "confusion = confusion_matrix(y_raw_test, y_pred)\n",
    "print(\"Confusion Matrix:\")\n",
    "print(confusion)"
   ]
  },
  {
   "cell_type": "code",
   "execution_count": 17,
   "metadata": {},
   "outputs": [
    {
     "name": "stdout",
     "output_type": "stream",
     "text": [
      "Classification Report:\n",
      "              precision    recall  f1-score   support\n",
      "\n",
      "           0       1.00      1.00      1.00    257815\n",
      "           1       0.57      0.19      0.29      1520\n",
      "\n",
      "    accuracy                           0.99    259335\n",
      "   macro avg       0.78      0.60      0.64    259335\n",
      "weighted avg       0.99      0.99      0.99    259335\n",
      "\n"
     ]
    }
   ],
   "source": [
    "report = classification_report(y_raw_test, y_pred)\n",
    "print(\"Classification Report:\")\n",
    "print(report)"
   ]
  },
  {
   "cell_type": "markdown",
   "metadata": {},
   "source": [
    "## COMPROBACION DEL MODELO "
   ]
  },
  {
   "cell_type": "code",
   "execution_count": 41,
   "metadata": {},
   "outputs": [],
   "source": [
    "# Load the test data\n",
    "test_data = pd.read_csv('datasets/fraudTest.csv')"
   ]
  },
  {
   "cell_type": "code",
   "execution_count": 42,
   "metadata": {},
   "outputs": [],
   "source": [
    "# Preprocess the test data (select features and standardize)\n",
    "X_test = test_data[['amt', 'city_pop', 'lat', 'long', 'merch_lat', 'merch_long']]\n",
    "y_test = test_data['is_fraud']\n",
    "scaler = StandardScaler()\n",
    "X_test = scaler.fit_transform(X_test)"
   ]
  },
  {
   "cell_type": "code",
   "execution_count": 43,
   "metadata": {},
   "outputs": [
    {
     "name": "stdout",
     "output_type": "stream",
     "text": [
      "17367/17367 [==============================] - 15s 878us/step\n"
     ]
    }
   ],
   "source": [
    "# Use the trained model to make predictions on the test data\n",
    "y_pred = model.predict(X_test)\n",
    "y_pred = (y_pred > 0.5)  # Apply the threshold"
   ]
  },
  {
   "cell_type": "code",
   "execution_count": 44,
   "metadata": {},
   "outputs": [
    {
     "name": "stdout",
     "output_type": "stream",
     "text": [
      "Accuracy: 0.9959997768656461\n",
      "Precision: 0.47393048128342247\n",
      "Recall: 0.3305361305361305\n",
      "F1 Score: 0.38945344685525957\n",
      "Confusion Matrix:\n",
      "[[552787    787]\n",
      " [  1436    709]]\n"
     ]
    }
   ],
   "source": [
    "# Evaluate the model's performance\n",
    "accuracy = accuracy_score(y_test, y_pred)\n",
    "precision = precision_score(y_test, y_pred)\n",
    "recall = recall_score(y_test, y_pred)\n",
    "f1 = f1_score(y_test, y_pred)\n",
    "confusion = confusion_matrix(y_test, y_pred)\n",
    "\n",
    "print(\"Accuracy:\", accuracy)\n",
    "print(\"Precision:\", precision)\n",
    "print(\"Recall:\", recall)\n",
    "print(\"F1 Score:\", f1)\n",
    "print(\"Confusion Matrix:\")\n",
    "print(confusion)"
   ]
  },
  {
   "cell_type": "code",
   "execution_count": 45,
   "metadata": {},
   "outputs": [
    {
     "name": "stdout",
     "output_type": "stream",
     "text": [
      "17367/17367 [==============================] - 15s 880us/step\n"
     ]
    }
   ],
   "source": [
    "# se crea una nueva columna donde se especifica si es fraude o no\n",
    "test_data['predicted_fraud'] = (model.predict(X_test) > 0.5)"
   ]
  },
  {
   "cell_type": "code",
   "execution_count": 46,
   "metadata": {},
   "outputs": [],
   "source": [
    "fraudulent_rows = test_data[test_data['predicted_fraud'] == 1]"
   ]
  },
  {
   "cell_type": "code",
   "execution_count": 6,
   "metadata": {},
   "outputs": [
    {
     "ename": "NameError",
     "evalue": "name 'fraudulent_rows' is not defined",
     "output_type": "error",
     "traceback": [
      "\u001b[1;31m---------------------------------------------------------------------------\u001b[0m",
      "\u001b[1;31mNameError\u001b[0m                                 Traceback (most recent call last)",
      "\u001b[1;32md:\\documents\\UPC\\Ciclo VI\\Inteligencia Artificial\\TF\\hito2\\feed-forward_no-one-hot_v1.ipynb Cell 19\u001b[0m line \u001b[0;36m1\n\u001b[1;32m----> <a href='vscode-notebook-cell:/d%3A/documents/UPC/Ciclo%20VI/Inteligencia%20Artificial/TF/hito2/feed-forward_no-one-hot_v1.ipynb#X25sZmlsZQ%3D%3D?line=0'>1</a>\u001b[0m \u001b[39mlen\u001b[39m(fraudulent_rows)\n",
      "\u001b[1;31mNameError\u001b[0m: name 'fraudulent_rows' is not defined"
     ]
    }
   ],
   "source": [
    "len(fraudulent_rows)"
   ]
  },
  {
   "cell_type": "code",
   "execution_count": 47,
   "metadata": {},
   "outputs": [
    {
     "name": "stdout",
     "output_type": "stream",
     "text": [
      "      Unnamed: 0 trans_date_trans_time            cc_num  \\\n",
      "1044        1044   2020-06-21 18:08:47  4302480582202074   \n",
      "1695        1695   2020-06-21 22:09:41     4427805710168   \n",
      "1784        1784   2020-06-21 22:38:55  4005676619255478   \n",
      "1956        1956   2020-06-21 23:35:27  4005676619255478   \n",
      "1968        1968   2020-06-21 23:40:26  4005676619255478   \n",
      "\n",
      "                                 merchant      category      amt     first  \\\n",
      "1044     fraud_Towne, Greenholt and Koepp  shopping_net   981.92     David   \n",
      "1695               fraud_Lebsack and Sons      misc_net   890.22  Michelle   \n",
      "1784  fraud_Heathcote, Yost and Kertzmann  shopping_net  1077.69   William   \n",
      "1956        fraud_Reichert, Rowe and Mraz  shopping_net   931.82   William   \n",
      "1968    fraud_Kihn, Abernathy and Douglas  shopping_net   983.00   William   \n",
      "\n",
      "           last gender                         street  ...      long city_pop  \\\n",
      "1044  Rodriguez      M               821 Solis Points  ...  -86.2492   128715   \n",
      "1695  Rodriguez      F  1742 Brandon Squares Apt. 461  ... -105.6933     8874   \n",
      "1784      Perry      M   458 Phillips Island Apt. 768  ...  -90.9027    71335   \n",
      "1956      Perry      M   458 Phillips Island Apt. 768  ...  -90.9027    71335   \n",
      "1968      Perry      M   458 Phillips Island Apt. 768  ...  -90.9027    71335   \n",
      "\n",
      "                                                    job         dob  \\\n",
      "1044  Historic buildings inspector/conservation officer  1995-05-25   \n",
      "1695                               Licensed conveyancer  2000-08-16   \n",
      "1784                                          Herbalist  1994-05-31   \n",
      "1956                                          Herbalist  1994-05-31   \n",
      "1968                                          Herbalist  1994-05-31   \n",
      "\n",
      "                             trans_num   unix_time  merch_lat  merch_long  \\\n",
      "1044  3b1e799de5fa593a74b851b9d5f8bbe1  1371838127  43.849101  -85.560458   \n",
      "1695  670e9fd071e3745d6d90b5ee5f29c64c  1371852581  34.154798 -106.551531   \n",
      "1784  fe956c7e4a253c437c18918bf96f7b62  1371854335  31.204974  -90.261595   \n",
      "1956  aff46f2741b3501d32b447f842618666  1371857727  30.761363  -91.713600   \n",
      "1968  8cabf98e58e2b29f7684362fea1f026c  1371858026  29.902451  -91.749089   \n",
      "\n",
      "     is_fraud  predicted_fraud  \n",
      "1044        0             True  \n",
      "1695        0             True  \n",
      "1784        1             True  \n",
      "1956        1             True  \n",
      "1968        1             True  \n",
      "\n",
      "[5 rows x 24 columns]\n"
     ]
    }
   ],
   "source": [
    "print(fraudulent_rows.head())\n"
   ]
  }
 ],
 "metadata": {
  "kernelspec": {
   "display_name": "Python 3",
   "language": "python",
   "name": "python3"
  },
  "language_info": {
   "codemirror_mode": {
    "name": "ipython",
    "version": 3
   },
   "file_extension": ".py",
   "mimetype": "text/x-python",
   "name": "python",
   "nbconvert_exporter": "python",
   "pygments_lexer": "ipython3",
   "version": "3.11.5"
  }
 },
 "nbformat": 4,
 "nbformat_minor": 2
}
